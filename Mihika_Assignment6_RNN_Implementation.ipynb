{
  "nbformat": 4,
  "nbformat_minor": 0,
  "metadata": {
    "colab": {
      "provenance": [],
      "collapsed_sections": [],
      "include_colab_link": true
    },
    "kernelspec": {
      "name": "python3",
      "display_name": "Python 3"
    },
    "language_info": {
      "name": "python"
    }
  },
  "cells": [
    {
      "cell_type": "markdown",
      "metadata": {
        "id": "view-in-github",
        "colab_type": "text"
      },
      "source": [
        "<a href=\"https://colab.research.google.com/github/mihika073/Deeplearning/blob/main/Mihika_Assignment6_RNN_Implementation.ipynb\" target=\"_parent\"><img src=\"https://colab.research.google.com/assets/colab-badge.svg\" alt=\"Open In Colab\"/></a>"
      ]
    },
    {
      "cell_type": "markdown",
      "source": [
        "# Assignment 6: RNN Implementation\n",
        "-------------------\n",
        "**Dr. Dave Wanik - University of Connecticut**\n",
        "A weather-based energy forecasting homework."
      ],
      "metadata": {
        "id": "VHjT2OpLjd7c"
      }
    },
    {
      "cell_type": "markdown",
      "source": [
        "* **Your Name Here:** Mihika Srivastava\n",
        "* **Your NetID Here:** mis21013"
      ],
      "metadata": {
        "id": "c9asxpfsnkNA"
      }
    },
    {
      "cell_type": "markdown",
      "source": [
        "Energy demand forecasting as a function of weather data is an extremely interesting and relevant topic.\n",
        "\n",
        "I've given you a curated (mostly?) clean dataset that you can use to predict `df['Demand']` as a function of the weather variables. \n",
        "\n",
        "Of course, you cannot use the df[`Datetime`] column directly into the model - but you can feature engineer the column to make features temporal features for modeling like Julian day of year (0-365), week of year, and number of years since 2012.\n",
        "\n",
        "**Sorting: (5 pts)**\n",
        "Sort the data from oldest to newest.\n",
        "\n",
        "**Cleaning: (10 pts)**\n",
        "Describe and impute (or drop) the missing values using an appropriate method. At this time, you are welcome to perform feature engineering (optional).\n",
        "\n",
        "**Process as a 3D tensor: (10 pts)**\n",
        "Process the data as a 3D tensor with a lookback of your choice (use a value greater than or equal to 12).\n",
        "\n",
        "**Model Architecure: (10 pts)**\n",
        "You must use a model with:\n",
        "* at least two recurrent layers\n",
        "* at least one convolution layer\n",
        "* dropout (recurrent or between Dense layers)\n",
        "* appropriate activation functions\n",
        "\n",
        "**Experiments: (15 pts each, 30 pts total)**\n",
        "Freeze the model architecutre and perform a *walk-forward validation* where:\n",
        "* the first 50k samples predict the remaining ~46k samples\n",
        "* the first 80k samples predict the remaining ~16k samples\n",
        "\n",
        "Walk-forward validation is very common to use on the job - it shows how your model (ideally) gets better over time as it gets more data to use. Use subheads\n",
        "\n",
        "**Evaluation (15 points each, 30 pts total)**\n",
        "Evaluate your model for each of these experiments - hopefully, your model should improve as you give it more data to use! But that depends on your choice of architecture. You should have:\n",
        "* quantitative error metrics (mean absolute error and others)\n",
        "* scatterplots of actual vs. predicted\n",
        "* time series plots of actual vs. predicted\n",
        "\n",
        "You should also compare to baseline model like persistence (assume today's energy usage is the same as yesterday's - requires you to shift by 24... ask on discussion board if questions!) or ignore the sequence data and treat this as a 2D problem (a regular supervised learning problem!)\n",
        "\n",
        "**Conclusions (5 pts total)**\n",
        "* What did you learn from this assignment? Did your walk-forward validation work as you expected it to? \n",
        "* What else would you do differently next time?\n",
        "* At least five great bullets please."
      ],
      "metadata": {
        "id": "hcyQFoJmjylF"
      }
    },
    {
      "cell_type": "code",
      "execution_count": null,
      "metadata": {
        "colab": {
          "base_uri": "https://localhost:8080/"
        },
        "id": "qwoDp0TsjdfE",
        "outputId": "aa0f2b03-03ff-48a0-fe95-ca95ed6dbc00"
      },
      "outputs": [
        {
          "output_type": "stream",
          "name": "stdout",
          "text": [
            "Downloading...\n",
            "From: https://drive.google.com/uc?id=1xYe3vCKTLeaJKpMDzv57ppCSWK_LCJ5V\n",
            "To: /content/BDL_cleanweather_energy (1).csv\n",
            "\r  0% 0.00/7.38M [00:00<?, ?B/s]\r100% 7.38M/7.38M [00:00<00:00, 246MB/s]\n"
          ]
        }
      ],
      "source": [
        "# https://drive.google.com/file/d/1xYe3vCKTLeaJKpMDzv57ppCSWK_LCJ5V/view?usp=sharing\n",
        "!gdown 1xYe3vCKTLeaJKpMDzv57ppCSWK_LCJ5V"
      ]
    },
    {
      "cell_type": "code",
      "source": [
        "import pandas as pd\n",
        "df = pd.read_csv('BDL_cleanweather_energy (1).csv')"
      ],
      "metadata": {
        "id": "iLnKeIrljmi1"
      },
      "execution_count": null,
      "outputs": []
    },
    {
      "cell_type": "code",
      "source": [
        "df.info()\n",
        "df.head(n=15)"
      ],
      "metadata": {
        "colab": {
          "base_uri": "https://localhost:8080/",
          "height": 832
        },
        "id": "Pl2aA-ZtkpKR",
        "outputId": "03d68b93-db9c-4a6b-bfe2-3f60da1249e2"
      },
      "execution_count": null,
      "outputs": [
        {
          "output_type": "stream",
          "name": "stdout",
          "text": [
            "<class 'pandas.core.frame.DataFrame'>\n",
            "RangeIndex: 96427 entries, 0 to 96426\n",
            "Data columns (total 11 columns):\n",
            " #   Column    Non-Null Count  Dtype  \n",
            "---  ------    --------------  -----  \n",
            " 0   Datetime  96427 non-null  object \n",
            " 1   Demand    96427 non-null  float64\n",
            " 2   BDL_tmpf  96160 non-null  float64\n",
            " 3   BDL_dwpf  96160 non-null  float64\n",
            " 4   BDL_relh  96160 non-null  float64\n",
            " 5   BDL_drct  96160 non-null  float64\n",
            " 6   BDL_sknt  96160 non-null  float64\n",
            " 7   BDL_p01i  96160 non-null  float64\n",
            " 8   BDL_alti  96160 non-null  float64\n",
            " 9   BDL_mslp  96160 non-null  float64\n",
            " 10  BDL_vsby  96160 non-null  float64\n",
            "dtypes: float64(10), object(1)\n",
            "memory usage: 8.1+ MB\n"
          ]
        },
        {
          "output_type": "execute_result",
          "data": {
            "text/plain": [
              "               Datetime    Demand  BDL_tmpf  BDL_dwpf  BDL_relh  BDL_drct  \\\n",
              "0   2019-01-01 00:00:00  2713.617      37.9      37.9    100.00     360.0   \n",
              "1   2019-01-01 01:00:00  2578.343      37.9      37.9    100.00     360.0   \n",
              "2   2019-01-01 02:00:00  2467.969      37.9      37.9    100.00     340.0   \n",
              "3   2019-01-01 03:00:00  2397.140      37.9      37.9    100.00     310.0   \n",
              "4   2019-01-01 04:00:00  2381.258      37.9      37.9    100.00     140.0   \n",
              "5   2019-01-01 05:00:00  2422.784      39.9      39.9    100.00     160.0   \n",
              "6   2019-01-01 06:00:00  2487.799      44.1      44.1    100.00     160.0   \n",
              "7   2019-01-01 07:00:00  2530.716      46.9      46.0     96.66     170.0   \n",
              "8   2019-01-01 08:00:00  2620.610      48.9      48.0     96.69     170.0   \n",
              "9   2019-01-01 09:00:00  2794.228      53.6      48.2     86.17     330.0   \n",
              "10  2019-01-01 10:00:00  2914.280      53.1      41.0     63.38     320.0   \n",
              "11  2019-01-01 11:00:00  2902.322      51.1      33.1     49.98     320.0   \n",
              "12  2019-01-01 12:00:00  2859.251      48.9      30.9     49.63     310.0   \n",
              "13  2019-01-01 13:00:00  2863.590      46.0      30.0     53.37     330.0   \n",
              "14  2019-01-01 14:00:00  2927.240      43.0      28.9     57.21     320.0   \n",
              "\n",
              "    BDL_sknt  BDL_p01i  BDL_alti  BDL_mslp  BDL_vsby  \n",
              "0        4.0    0.0700     29.88    1009.7       5.0  \n",
              "1        4.0    0.1100     29.79    1006.3       2.0  \n",
              "2        7.0    0.0100     29.70    1003.3       2.0  \n",
              "3        6.0    0.0100     29.63    1002.3       1.5  \n",
              "4        3.0    0.0001     29.58    1001.2       1.5  \n",
              "5       11.0    0.0000     29.56    1000.4       5.0  \n",
              "6       11.0    0.0000     29.54     999.8      10.0  \n",
              "7       11.0    0.0000     29.54    1000.1      10.0  \n",
              "8       10.0    0.0000     29.56    1000.9      10.0  \n",
              "9       12.0    0.0000     29.63    1003.1      10.0  \n",
              "10      24.0    0.0000     29.69    1005.2      10.0  \n",
              "11      23.0    0.0000     29.75    1007.3      10.0  \n",
              "12      27.0    0.0000     29.77    1008.1      10.0  \n",
              "13      21.0    0.0000     29.81    1009.4      10.0  \n",
              "14      27.0    0.0000     29.88    1011.9      10.0  "
            ],
            "text/html": [
              "\n",
              "  <div id=\"df-a8e4d546-e4d1-49a0-8954-730bca9c772e\">\n",
              "    <div class=\"colab-df-container\">\n",
              "      <div>\n",
              "<style scoped>\n",
              "    .dataframe tbody tr th:only-of-type {\n",
              "        vertical-align: middle;\n",
              "    }\n",
              "\n",
              "    .dataframe tbody tr th {\n",
              "        vertical-align: top;\n",
              "    }\n",
              "\n",
              "    .dataframe thead th {\n",
              "        text-align: right;\n",
              "    }\n",
              "</style>\n",
              "<table border=\"1\" class=\"dataframe\">\n",
              "  <thead>\n",
              "    <tr style=\"text-align: right;\">\n",
              "      <th></th>\n",
              "      <th>Datetime</th>\n",
              "      <th>Demand</th>\n",
              "      <th>BDL_tmpf</th>\n",
              "      <th>BDL_dwpf</th>\n",
              "      <th>BDL_relh</th>\n",
              "      <th>BDL_drct</th>\n",
              "      <th>BDL_sknt</th>\n",
              "      <th>BDL_p01i</th>\n",
              "      <th>BDL_alti</th>\n",
              "      <th>BDL_mslp</th>\n",
              "      <th>BDL_vsby</th>\n",
              "    </tr>\n",
              "  </thead>\n",
              "  <tbody>\n",
              "    <tr>\n",
              "      <th>0</th>\n",
              "      <td>2019-01-01 00:00:00</td>\n",
              "      <td>2713.617</td>\n",
              "      <td>37.9</td>\n",
              "      <td>37.9</td>\n",
              "      <td>100.00</td>\n",
              "      <td>360.0</td>\n",
              "      <td>4.0</td>\n",
              "      <td>0.0700</td>\n",
              "      <td>29.88</td>\n",
              "      <td>1009.7</td>\n",
              "      <td>5.0</td>\n",
              "    </tr>\n",
              "    <tr>\n",
              "      <th>1</th>\n",
              "      <td>2019-01-01 01:00:00</td>\n",
              "      <td>2578.343</td>\n",
              "      <td>37.9</td>\n",
              "      <td>37.9</td>\n",
              "      <td>100.00</td>\n",
              "      <td>360.0</td>\n",
              "      <td>4.0</td>\n",
              "      <td>0.1100</td>\n",
              "      <td>29.79</td>\n",
              "      <td>1006.3</td>\n",
              "      <td>2.0</td>\n",
              "    </tr>\n",
              "    <tr>\n",
              "      <th>2</th>\n",
              "      <td>2019-01-01 02:00:00</td>\n",
              "      <td>2467.969</td>\n",
              "      <td>37.9</td>\n",
              "      <td>37.9</td>\n",
              "      <td>100.00</td>\n",
              "      <td>340.0</td>\n",
              "      <td>7.0</td>\n",
              "      <td>0.0100</td>\n",
              "      <td>29.70</td>\n",
              "      <td>1003.3</td>\n",
              "      <td>2.0</td>\n",
              "    </tr>\n",
              "    <tr>\n",
              "      <th>3</th>\n",
              "      <td>2019-01-01 03:00:00</td>\n",
              "      <td>2397.140</td>\n",
              "      <td>37.9</td>\n",
              "      <td>37.9</td>\n",
              "      <td>100.00</td>\n",
              "      <td>310.0</td>\n",
              "      <td>6.0</td>\n",
              "      <td>0.0100</td>\n",
              "      <td>29.63</td>\n",
              "      <td>1002.3</td>\n",
              "      <td>1.5</td>\n",
              "    </tr>\n",
              "    <tr>\n",
              "      <th>4</th>\n",
              "      <td>2019-01-01 04:00:00</td>\n",
              "      <td>2381.258</td>\n",
              "      <td>37.9</td>\n",
              "      <td>37.9</td>\n",
              "      <td>100.00</td>\n",
              "      <td>140.0</td>\n",
              "      <td>3.0</td>\n",
              "      <td>0.0001</td>\n",
              "      <td>29.58</td>\n",
              "      <td>1001.2</td>\n",
              "      <td>1.5</td>\n",
              "    </tr>\n",
              "    <tr>\n",
              "      <th>5</th>\n",
              "      <td>2019-01-01 05:00:00</td>\n",
              "      <td>2422.784</td>\n",
              "      <td>39.9</td>\n",
              "      <td>39.9</td>\n",
              "      <td>100.00</td>\n",
              "      <td>160.0</td>\n",
              "      <td>11.0</td>\n",
              "      <td>0.0000</td>\n",
              "      <td>29.56</td>\n",
              "      <td>1000.4</td>\n",
              "      <td>5.0</td>\n",
              "    </tr>\n",
              "    <tr>\n",
              "      <th>6</th>\n",
              "      <td>2019-01-01 06:00:00</td>\n",
              "      <td>2487.799</td>\n",
              "      <td>44.1</td>\n",
              "      <td>44.1</td>\n",
              "      <td>100.00</td>\n",
              "      <td>160.0</td>\n",
              "      <td>11.0</td>\n",
              "      <td>0.0000</td>\n",
              "      <td>29.54</td>\n",
              "      <td>999.8</td>\n",
              "      <td>10.0</td>\n",
              "    </tr>\n",
              "    <tr>\n",
              "      <th>7</th>\n",
              "      <td>2019-01-01 07:00:00</td>\n",
              "      <td>2530.716</td>\n",
              "      <td>46.9</td>\n",
              "      <td>46.0</td>\n",
              "      <td>96.66</td>\n",
              "      <td>170.0</td>\n",
              "      <td>11.0</td>\n",
              "      <td>0.0000</td>\n",
              "      <td>29.54</td>\n",
              "      <td>1000.1</td>\n",
              "      <td>10.0</td>\n",
              "    </tr>\n",
              "    <tr>\n",
              "      <th>8</th>\n",
              "      <td>2019-01-01 08:00:00</td>\n",
              "      <td>2620.610</td>\n",
              "      <td>48.9</td>\n",
              "      <td>48.0</td>\n",
              "      <td>96.69</td>\n",
              "      <td>170.0</td>\n",
              "      <td>10.0</td>\n",
              "      <td>0.0000</td>\n",
              "      <td>29.56</td>\n",
              "      <td>1000.9</td>\n",
              "      <td>10.0</td>\n",
              "    </tr>\n",
              "    <tr>\n",
              "      <th>9</th>\n",
              "      <td>2019-01-01 09:00:00</td>\n",
              "      <td>2794.228</td>\n",
              "      <td>53.6</td>\n",
              "      <td>48.2</td>\n",
              "      <td>86.17</td>\n",
              "      <td>330.0</td>\n",
              "      <td>12.0</td>\n",
              "      <td>0.0000</td>\n",
              "      <td>29.63</td>\n",
              "      <td>1003.1</td>\n",
              "      <td>10.0</td>\n",
              "    </tr>\n",
              "    <tr>\n",
              "      <th>10</th>\n",
              "      <td>2019-01-01 10:00:00</td>\n",
              "      <td>2914.280</td>\n",
              "      <td>53.1</td>\n",
              "      <td>41.0</td>\n",
              "      <td>63.38</td>\n",
              "      <td>320.0</td>\n",
              "      <td>24.0</td>\n",
              "      <td>0.0000</td>\n",
              "      <td>29.69</td>\n",
              "      <td>1005.2</td>\n",
              "      <td>10.0</td>\n",
              "    </tr>\n",
              "    <tr>\n",
              "      <th>11</th>\n",
              "      <td>2019-01-01 11:00:00</td>\n",
              "      <td>2902.322</td>\n",
              "      <td>51.1</td>\n",
              "      <td>33.1</td>\n",
              "      <td>49.98</td>\n",
              "      <td>320.0</td>\n",
              "      <td>23.0</td>\n",
              "      <td>0.0000</td>\n",
              "      <td>29.75</td>\n",
              "      <td>1007.3</td>\n",
              "      <td>10.0</td>\n",
              "    </tr>\n",
              "    <tr>\n",
              "      <th>12</th>\n",
              "      <td>2019-01-01 12:00:00</td>\n",
              "      <td>2859.251</td>\n",
              "      <td>48.9</td>\n",
              "      <td>30.9</td>\n",
              "      <td>49.63</td>\n",
              "      <td>310.0</td>\n",
              "      <td>27.0</td>\n",
              "      <td>0.0000</td>\n",
              "      <td>29.77</td>\n",
              "      <td>1008.1</td>\n",
              "      <td>10.0</td>\n",
              "    </tr>\n",
              "    <tr>\n",
              "      <th>13</th>\n",
              "      <td>2019-01-01 13:00:00</td>\n",
              "      <td>2863.590</td>\n",
              "      <td>46.0</td>\n",
              "      <td>30.0</td>\n",
              "      <td>53.37</td>\n",
              "      <td>330.0</td>\n",
              "      <td>21.0</td>\n",
              "      <td>0.0000</td>\n",
              "      <td>29.81</td>\n",
              "      <td>1009.4</td>\n",
              "      <td>10.0</td>\n",
              "    </tr>\n",
              "    <tr>\n",
              "      <th>14</th>\n",
              "      <td>2019-01-01 14:00:00</td>\n",
              "      <td>2927.240</td>\n",
              "      <td>43.0</td>\n",
              "      <td>28.9</td>\n",
              "      <td>57.21</td>\n",
              "      <td>320.0</td>\n",
              "      <td>27.0</td>\n",
              "      <td>0.0000</td>\n",
              "      <td>29.88</td>\n",
              "      <td>1011.9</td>\n",
              "      <td>10.0</td>\n",
              "    </tr>\n",
              "  </tbody>\n",
              "</table>\n",
              "</div>\n",
              "      <button class=\"colab-df-convert\" onclick=\"convertToInteractive('df-a8e4d546-e4d1-49a0-8954-730bca9c772e')\"\n",
              "              title=\"Convert this dataframe to an interactive table.\"\n",
              "              style=\"display:none;\">\n",
              "        \n",
              "  <svg xmlns=\"http://www.w3.org/2000/svg\" height=\"24px\"viewBox=\"0 0 24 24\"\n",
              "       width=\"24px\">\n",
              "    <path d=\"M0 0h24v24H0V0z\" fill=\"none\"/>\n",
              "    <path d=\"M18.56 5.44l.94 2.06.94-2.06 2.06-.94-2.06-.94-.94-2.06-.94 2.06-2.06.94zm-11 1L8.5 8.5l.94-2.06 2.06-.94-2.06-.94L8.5 2.5l-.94 2.06-2.06.94zm10 10l.94 2.06.94-2.06 2.06-.94-2.06-.94-.94-2.06-.94 2.06-2.06.94z\"/><path d=\"M17.41 7.96l-1.37-1.37c-.4-.4-.92-.59-1.43-.59-.52 0-1.04.2-1.43.59L10.3 9.45l-7.72 7.72c-.78.78-.78 2.05 0 2.83L4 21.41c.39.39.9.59 1.41.59.51 0 1.02-.2 1.41-.59l7.78-7.78 2.81-2.81c.8-.78.8-2.07 0-2.86zM5.41 20L4 18.59l7.72-7.72 1.47 1.35L5.41 20z\"/>\n",
              "  </svg>\n",
              "      </button>\n",
              "      \n",
              "  <style>\n",
              "    .colab-df-container {\n",
              "      display:flex;\n",
              "      flex-wrap:wrap;\n",
              "      gap: 12px;\n",
              "    }\n",
              "\n",
              "    .colab-df-convert {\n",
              "      background-color: #E8F0FE;\n",
              "      border: none;\n",
              "      border-radius: 50%;\n",
              "      cursor: pointer;\n",
              "      display: none;\n",
              "      fill: #1967D2;\n",
              "      height: 32px;\n",
              "      padding: 0 0 0 0;\n",
              "      width: 32px;\n",
              "    }\n",
              "\n",
              "    .colab-df-convert:hover {\n",
              "      background-color: #E2EBFA;\n",
              "      box-shadow: 0px 1px 2px rgba(60, 64, 67, 0.3), 0px 1px 3px 1px rgba(60, 64, 67, 0.15);\n",
              "      fill: #174EA6;\n",
              "    }\n",
              "\n",
              "    [theme=dark] .colab-df-convert {\n",
              "      background-color: #3B4455;\n",
              "      fill: #D2E3FC;\n",
              "    }\n",
              "\n",
              "    [theme=dark] .colab-df-convert:hover {\n",
              "      background-color: #434B5C;\n",
              "      box-shadow: 0px 1px 3px 1px rgba(0, 0, 0, 0.15);\n",
              "      filter: drop-shadow(0px 1px 2px rgba(0, 0, 0, 0.3));\n",
              "      fill: #FFFFFF;\n",
              "    }\n",
              "  </style>\n",
              "\n",
              "      <script>\n",
              "        const buttonEl =\n",
              "          document.querySelector('#df-a8e4d546-e4d1-49a0-8954-730bca9c772e button.colab-df-convert');\n",
              "        buttonEl.style.display =\n",
              "          google.colab.kernel.accessAllowed ? 'block' : 'none';\n",
              "\n",
              "        async function convertToInteractive(key) {\n",
              "          const element = document.querySelector('#df-a8e4d546-e4d1-49a0-8954-730bca9c772e');\n",
              "          const dataTable =\n",
              "            await google.colab.kernel.invokeFunction('convertToInteractive',\n",
              "                                                     [key], {});\n",
              "          if (!dataTable) return;\n",
              "\n",
              "          const docLinkHtml = 'Like what you see? Visit the ' +\n",
              "            '<a target=\"_blank\" href=https://colab.research.google.com/notebooks/data_table.ipynb>data table notebook</a>'\n",
              "            + ' to learn more about interactive tables.';\n",
              "          element.innerHTML = '';\n",
              "          dataTable['output_type'] = 'display_data';\n",
              "          await google.colab.output.renderOutput(dataTable, element);\n",
              "          const docLink = document.createElement('div');\n",
              "          docLink.innerHTML = docLinkHtml;\n",
              "          element.appendChild(docLink);\n",
              "        }\n",
              "      </script>\n",
              "    </div>\n",
              "  </div>\n",
              "  "
            ]
          },
          "metadata": {},
          "execution_count": 4
        }
      ]
    },
    {
      "cell_type": "markdown",
      "source": [
        "##Import useful modules"
      ],
      "metadata": {
        "id": "CO9_EgBEuX8O"
      }
    },
    {
      "cell_type": "code",
      "source": [
        "# standard modules\n",
        "import numpy as np\n",
        "import pandas as pd\n",
        "import matplotlib.pyplot as plt\n",
        "\n",
        "# RNN-specific modules\n",
        "import pandas as pd\n",
        "import numpy as np\n",
        "from sklearn.preprocessing import MinMaxScaler\n",
        "from sklearn.metrics import classification_report,accuracy_score\n",
        "from tensorflow.keras import layers, Sequential\n",
        "from tensorflow.keras.layers import Conv1D, MaxPooling1D\n",
        "from tensorflow.keras.layers import Dense, Dropout, SimpleRNN, GRU, LSTM, Bidirectional\n",
        "from tensorflow.keras.callbacks import EarlyStopping"
      ],
      "metadata": {
        "id": "2HhUI1m4uatO"
      },
      "execution_count": null,
      "outputs": []
    },
    {
      "cell_type": "markdown",
      "source": [
        "##Data Sorting"
      ],
      "metadata": {
        "id": "yk1UI3aGu4iS"
      }
    },
    {
      "cell_type": "code",
      "source": [
        "#Change the date column to datetime data type\n",
        "df['Datetime'] = pd.to_datetime(df['Datetime'])\n",
        "print(type(df.Datetime[0]))\n"
      ],
      "metadata": {
        "colab": {
          "base_uri": "https://localhost:8080/"
        },
        "id": "9SNRpffGu9J5",
        "outputId": "f3f8091d-b2fb-4f55-e4ee-771580533575"
      },
      "execution_count": null,
      "outputs": [
        {
          "output_type": "stream",
          "name": "stdout",
          "text": [
            "<class 'pandas._libs.tslibs.timestamps.Timestamp'>\n"
          ]
        }
      ]
    },
    {
      "cell_type": "code",
      "source": [
        "df.head()"
      ],
      "metadata": {
        "colab": {
          "base_uri": "https://localhost:8080/",
          "height": 206
        },
        "id": "y4hfam7IufVn",
        "outputId": "d6c91093-bb85-4320-9f14-2330423e282b"
      },
      "execution_count": null,
      "outputs": [
        {
          "output_type": "execute_result",
          "data": {
            "text/plain": [
              "             Datetime    Demand  BDL_tmpf  BDL_dwpf  BDL_relh  BDL_drct  \\\n",
              "0 2019-01-01 00:00:00  2713.617      37.9      37.9     100.0     360.0   \n",
              "1 2019-01-01 01:00:00  2578.343      37.9      37.9     100.0     360.0   \n",
              "2 2019-01-01 02:00:00  2467.969      37.9      37.9     100.0     340.0   \n",
              "3 2019-01-01 03:00:00  2397.140      37.9      37.9     100.0     310.0   \n",
              "4 2019-01-01 04:00:00  2381.258      37.9      37.9     100.0     140.0   \n",
              "\n",
              "   BDL_sknt  BDL_p01i  BDL_alti  BDL_mslp  BDL_vsby  \n",
              "0       4.0    0.0700     29.88    1009.7       5.0  \n",
              "1       4.0    0.1100     29.79    1006.3       2.0  \n",
              "2       7.0    0.0100     29.70    1003.3       2.0  \n",
              "3       6.0    0.0100     29.63    1002.3       1.5  \n",
              "4       3.0    0.0001     29.58    1001.2       1.5  "
            ],
            "text/html": [
              "\n",
              "  <div id=\"df-47feccb8-f581-4561-84b0-cee85d2b0ac2\">\n",
              "    <div class=\"colab-df-container\">\n",
              "      <div>\n",
              "<style scoped>\n",
              "    .dataframe tbody tr th:only-of-type {\n",
              "        vertical-align: middle;\n",
              "    }\n",
              "\n",
              "    .dataframe tbody tr th {\n",
              "        vertical-align: top;\n",
              "    }\n",
              "\n",
              "    .dataframe thead th {\n",
              "        text-align: right;\n",
              "    }\n",
              "</style>\n",
              "<table border=\"1\" class=\"dataframe\">\n",
              "  <thead>\n",
              "    <tr style=\"text-align: right;\">\n",
              "      <th></th>\n",
              "      <th>Datetime</th>\n",
              "      <th>Demand</th>\n",
              "      <th>BDL_tmpf</th>\n",
              "      <th>BDL_dwpf</th>\n",
              "      <th>BDL_relh</th>\n",
              "      <th>BDL_drct</th>\n",
              "      <th>BDL_sknt</th>\n",
              "      <th>BDL_p01i</th>\n",
              "      <th>BDL_alti</th>\n",
              "      <th>BDL_mslp</th>\n",
              "      <th>BDL_vsby</th>\n",
              "    </tr>\n",
              "  </thead>\n",
              "  <tbody>\n",
              "    <tr>\n",
              "      <th>0</th>\n",
              "      <td>2019-01-01 00:00:00</td>\n",
              "      <td>2713.617</td>\n",
              "      <td>37.9</td>\n",
              "      <td>37.9</td>\n",
              "      <td>100.0</td>\n",
              "      <td>360.0</td>\n",
              "      <td>4.0</td>\n",
              "      <td>0.0700</td>\n",
              "      <td>29.88</td>\n",
              "      <td>1009.7</td>\n",
              "      <td>5.0</td>\n",
              "    </tr>\n",
              "    <tr>\n",
              "      <th>1</th>\n",
              "      <td>2019-01-01 01:00:00</td>\n",
              "      <td>2578.343</td>\n",
              "      <td>37.9</td>\n",
              "      <td>37.9</td>\n",
              "      <td>100.0</td>\n",
              "      <td>360.0</td>\n",
              "      <td>4.0</td>\n",
              "      <td>0.1100</td>\n",
              "      <td>29.79</td>\n",
              "      <td>1006.3</td>\n",
              "      <td>2.0</td>\n",
              "    </tr>\n",
              "    <tr>\n",
              "      <th>2</th>\n",
              "      <td>2019-01-01 02:00:00</td>\n",
              "      <td>2467.969</td>\n",
              "      <td>37.9</td>\n",
              "      <td>37.9</td>\n",
              "      <td>100.0</td>\n",
              "      <td>340.0</td>\n",
              "      <td>7.0</td>\n",
              "      <td>0.0100</td>\n",
              "      <td>29.70</td>\n",
              "      <td>1003.3</td>\n",
              "      <td>2.0</td>\n",
              "    </tr>\n",
              "    <tr>\n",
              "      <th>3</th>\n",
              "      <td>2019-01-01 03:00:00</td>\n",
              "      <td>2397.140</td>\n",
              "      <td>37.9</td>\n",
              "      <td>37.9</td>\n",
              "      <td>100.0</td>\n",
              "      <td>310.0</td>\n",
              "      <td>6.0</td>\n",
              "      <td>0.0100</td>\n",
              "      <td>29.63</td>\n",
              "      <td>1002.3</td>\n",
              "      <td>1.5</td>\n",
              "    </tr>\n",
              "    <tr>\n",
              "      <th>4</th>\n",
              "      <td>2019-01-01 04:00:00</td>\n",
              "      <td>2381.258</td>\n",
              "      <td>37.9</td>\n",
              "      <td>37.9</td>\n",
              "      <td>100.0</td>\n",
              "      <td>140.0</td>\n",
              "      <td>3.0</td>\n",
              "      <td>0.0001</td>\n",
              "      <td>29.58</td>\n",
              "      <td>1001.2</td>\n",
              "      <td>1.5</td>\n",
              "    </tr>\n",
              "  </tbody>\n",
              "</table>\n",
              "</div>\n",
              "      <button class=\"colab-df-convert\" onclick=\"convertToInteractive('df-47feccb8-f581-4561-84b0-cee85d2b0ac2')\"\n",
              "              title=\"Convert this dataframe to an interactive table.\"\n",
              "              style=\"display:none;\">\n",
              "        \n",
              "  <svg xmlns=\"http://www.w3.org/2000/svg\" height=\"24px\"viewBox=\"0 0 24 24\"\n",
              "       width=\"24px\">\n",
              "    <path d=\"M0 0h24v24H0V0z\" fill=\"none\"/>\n",
              "    <path d=\"M18.56 5.44l.94 2.06.94-2.06 2.06-.94-2.06-.94-.94-2.06-.94 2.06-2.06.94zm-11 1L8.5 8.5l.94-2.06 2.06-.94-2.06-.94L8.5 2.5l-.94 2.06-2.06.94zm10 10l.94 2.06.94-2.06 2.06-.94-2.06-.94-.94-2.06-.94 2.06-2.06.94z\"/><path d=\"M17.41 7.96l-1.37-1.37c-.4-.4-.92-.59-1.43-.59-.52 0-1.04.2-1.43.59L10.3 9.45l-7.72 7.72c-.78.78-.78 2.05 0 2.83L4 21.41c.39.39.9.59 1.41.59.51 0 1.02-.2 1.41-.59l7.78-7.78 2.81-2.81c.8-.78.8-2.07 0-2.86zM5.41 20L4 18.59l7.72-7.72 1.47 1.35L5.41 20z\"/>\n",
              "  </svg>\n",
              "      </button>\n",
              "      \n",
              "  <style>\n",
              "    .colab-df-container {\n",
              "      display:flex;\n",
              "      flex-wrap:wrap;\n",
              "      gap: 12px;\n",
              "    }\n",
              "\n",
              "    .colab-df-convert {\n",
              "      background-color: #E8F0FE;\n",
              "      border: none;\n",
              "      border-radius: 50%;\n",
              "      cursor: pointer;\n",
              "      display: none;\n",
              "      fill: #1967D2;\n",
              "      height: 32px;\n",
              "      padding: 0 0 0 0;\n",
              "      width: 32px;\n",
              "    }\n",
              "\n",
              "    .colab-df-convert:hover {\n",
              "      background-color: #E2EBFA;\n",
              "      box-shadow: 0px 1px 2px rgba(60, 64, 67, 0.3), 0px 1px 3px 1px rgba(60, 64, 67, 0.15);\n",
              "      fill: #174EA6;\n",
              "    }\n",
              "\n",
              "    [theme=dark] .colab-df-convert {\n",
              "      background-color: #3B4455;\n",
              "      fill: #D2E3FC;\n",
              "    }\n",
              "\n",
              "    [theme=dark] .colab-df-convert:hover {\n",
              "      background-color: #434B5C;\n",
              "      box-shadow: 0px 1px 3px 1px rgba(0, 0, 0, 0.15);\n",
              "      filter: drop-shadow(0px 1px 2px rgba(0, 0, 0, 0.3));\n",
              "      fill: #FFFFFF;\n",
              "    }\n",
              "  </style>\n",
              "\n",
              "      <script>\n",
              "        const buttonEl =\n",
              "          document.querySelector('#df-47feccb8-f581-4561-84b0-cee85d2b0ac2 button.colab-df-convert');\n",
              "        buttonEl.style.display =\n",
              "          google.colab.kernel.accessAllowed ? 'block' : 'none';\n",
              "\n",
              "        async function convertToInteractive(key) {\n",
              "          const element = document.querySelector('#df-47feccb8-f581-4561-84b0-cee85d2b0ac2');\n",
              "          const dataTable =\n",
              "            await google.colab.kernel.invokeFunction('convertToInteractive',\n",
              "                                                     [key], {});\n",
              "          if (!dataTable) return;\n",
              "\n",
              "          const docLinkHtml = 'Like what you see? Visit the ' +\n",
              "            '<a target=\"_blank\" href=https://colab.research.google.com/notebooks/data_table.ipynb>data table notebook</a>'\n",
              "            + ' to learn more about interactive tables.';\n",
              "          element.innerHTML = '';\n",
              "          dataTable['output_type'] = 'display_data';\n",
              "          await google.colab.output.renderOutput(dataTable, element);\n",
              "          const docLink = document.createElement('div');\n",
              "          docLink.innerHTML = docLinkHtml;\n",
              "          element.appendChild(docLink);\n",
              "        }\n",
              "      </script>\n",
              "    </div>\n",
              "  </div>\n",
              "  "
            ]
          },
          "metadata": {},
          "execution_count": 22
        }
      ]
    },
    {
      "cell_type": "code",
      "source": [
        "df.sort_values(by=['Datetime'])"
      ],
      "metadata": {
        "colab": {
          "base_uri": "https://localhost:8080/",
          "height": 423
        },
        "id": "bJvaGZsXuh7-",
        "outputId": "d5e4ae24-12de-492d-d11c-0a41d1b44d16"
      },
      "execution_count": null,
      "outputs": [
        {
          "output_type": "execute_result",
          "data": {
            "text/plain": [
              "                 Datetime   Demand  BDL_tmpf  BDL_dwpf  BDL_relh  BDL_drct  \\\n",
              "8760  2011-01-01 00:00:00  3053.00     33.98     26.96      0.00       0.0   \n",
              "8761  2011-01-01 01:00:00  2892.00     33.98     26.96      0.00       0.0   \n",
              "8762  2011-01-01 02:00:00  2774.00     30.92     26.96      0.00       0.0   \n",
              "8763  2011-01-01 03:00:00  2710.00     30.02     26.06      0.00       0.0   \n",
              "8764  2011-01-01 04:00:00  2698.00     28.94     24.98      0.00       0.0   \n",
              "...                   ...      ...       ...       ...       ...       ...   \n",
              "78855 2021-12-31 19:00:00  3310.60     48.00     45.00     89.29     190.0   \n",
              "78856 2021-12-31 20:00:00  3148.00     48.00     46.00     92.74     190.0   \n",
              "78857 2021-12-31 21:00:00  2988.93     48.00     46.00     92.74     170.0   \n",
              "78858 2021-12-31 22:00:00  2793.70     46.90     46.40    100.00     180.0   \n",
              "78859 2021-12-31 23:00:00  2629.35     48.00     46.00     92.74     160.0   \n",
              "\n",
              "       BDL_sknt  BDL_p01i  BDL_alti  BDL_mslp  BDL_vsby  \n",
              "8760        0.0       0.0     30.07    1018.5       6.0  \n",
              "8761        0.0       0.0     30.07    1018.5       6.0  \n",
              "8762        0.0       0.0     30.07    1018.6       6.0  \n",
              "8763        0.0       0.0     30.09    1019.2       5.0  \n",
              "8764        0.0       0.0     30.09    1019.1       5.0  \n",
              "...         ...       ...       ...       ...       ...  \n",
              "78855       7.0       0.0     29.95    1014.2       6.0  \n",
              "78856       5.0       0.0     29.95    1013.8       5.0  \n",
              "78857       7.0       0.0     29.94    1013.5       5.0  \n",
              "78858       7.0       0.0     29.94    1013.8       5.0  \n",
              "78859       5.0       0.0     29.94    1013.3       4.0  \n",
              "\n",
              "[96427 rows x 11 columns]"
            ],
            "text/html": [
              "\n",
              "  <div id=\"df-98b12987-9a43-4b54-9f8c-25828b03f48f\">\n",
              "    <div class=\"colab-df-container\">\n",
              "      <div>\n",
              "<style scoped>\n",
              "    .dataframe tbody tr th:only-of-type {\n",
              "        vertical-align: middle;\n",
              "    }\n",
              "\n",
              "    .dataframe tbody tr th {\n",
              "        vertical-align: top;\n",
              "    }\n",
              "\n",
              "    .dataframe thead th {\n",
              "        text-align: right;\n",
              "    }\n",
              "</style>\n",
              "<table border=\"1\" class=\"dataframe\">\n",
              "  <thead>\n",
              "    <tr style=\"text-align: right;\">\n",
              "      <th></th>\n",
              "      <th>Datetime</th>\n",
              "      <th>Demand</th>\n",
              "      <th>BDL_tmpf</th>\n",
              "      <th>BDL_dwpf</th>\n",
              "      <th>BDL_relh</th>\n",
              "      <th>BDL_drct</th>\n",
              "      <th>BDL_sknt</th>\n",
              "      <th>BDL_p01i</th>\n",
              "      <th>BDL_alti</th>\n",
              "      <th>BDL_mslp</th>\n",
              "      <th>BDL_vsby</th>\n",
              "    </tr>\n",
              "  </thead>\n",
              "  <tbody>\n",
              "    <tr>\n",
              "      <th>8760</th>\n",
              "      <td>2011-01-01 00:00:00</td>\n",
              "      <td>3053.00</td>\n",
              "      <td>33.98</td>\n",
              "      <td>26.96</td>\n",
              "      <td>0.00</td>\n",
              "      <td>0.0</td>\n",
              "      <td>0.0</td>\n",
              "      <td>0.0</td>\n",
              "      <td>30.07</td>\n",
              "      <td>1018.5</td>\n",
              "      <td>6.0</td>\n",
              "    </tr>\n",
              "    <tr>\n",
              "      <th>8761</th>\n",
              "      <td>2011-01-01 01:00:00</td>\n",
              "      <td>2892.00</td>\n",
              "      <td>33.98</td>\n",
              "      <td>26.96</td>\n",
              "      <td>0.00</td>\n",
              "      <td>0.0</td>\n",
              "      <td>0.0</td>\n",
              "      <td>0.0</td>\n",
              "      <td>30.07</td>\n",
              "      <td>1018.5</td>\n",
              "      <td>6.0</td>\n",
              "    </tr>\n",
              "    <tr>\n",
              "      <th>8762</th>\n",
              "      <td>2011-01-01 02:00:00</td>\n",
              "      <td>2774.00</td>\n",
              "      <td>30.92</td>\n",
              "      <td>26.96</td>\n",
              "      <td>0.00</td>\n",
              "      <td>0.0</td>\n",
              "      <td>0.0</td>\n",
              "      <td>0.0</td>\n",
              "      <td>30.07</td>\n",
              "      <td>1018.6</td>\n",
              "      <td>6.0</td>\n",
              "    </tr>\n",
              "    <tr>\n",
              "      <th>8763</th>\n",
              "      <td>2011-01-01 03:00:00</td>\n",
              "      <td>2710.00</td>\n",
              "      <td>30.02</td>\n",
              "      <td>26.06</td>\n",
              "      <td>0.00</td>\n",
              "      <td>0.0</td>\n",
              "      <td>0.0</td>\n",
              "      <td>0.0</td>\n",
              "      <td>30.09</td>\n",
              "      <td>1019.2</td>\n",
              "      <td>5.0</td>\n",
              "    </tr>\n",
              "    <tr>\n",
              "      <th>8764</th>\n",
              "      <td>2011-01-01 04:00:00</td>\n",
              "      <td>2698.00</td>\n",
              "      <td>28.94</td>\n",
              "      <td>24.98</td>\n",
              "      <td>0.00</td>\n",
              "      <td>0.0</td>\n",
              "      <td>0.0</td>\n",
              "      <td>0.0</td>\n",
              "      <td>30.09</td>\n",
              "      <td>1019.1</td>\n",
              "      <td>5.0</td>\n",
              "    </tr>\n",
              "    <tr>\n",
              "      <th>...</th>\n",
              "      <td>...</td>\n",
              "      <td>...</td>\n",
              "      <td>...</td>\n",
              "      <td>...</td>\n",
              "      <td>...</td>\n",
              "      <td>...</td>\n",
              "      <td>...</td>\n",
              "      <td>...</td>\n",
              "      <td>...</td>\n",
              "      <td>...</td>\n",
              "      <td>...</td>\n",
              "    </tr>\n",
              "    <tr>\n",
              "      <th>78855</th>\n",
              "      <td>2021-12-31 19:00:00</td>\n",
              "      <td>3310.60</td>\n",
              "      <td>48.00</td>\n",
              "      <td>45.00</td>\n",
              "      <td>89.29</td>\n",
              "      <td>190.0</td>\n",
              "      <td>7.0</td>\n",
              "      <td>0.0</td>\n",
              "      <td>29.95</td>\n",
              "      <td>1014.2</td>\n",
              "      <td>6.0</td>\n",
              "    </tr>\n",
              "    <tr>\n",
              "      <th>78856</th>\n",
              "      <td>2021-12-31 20:00:00</td>\n",
              "      <td>3148.00</td>\n",
              "      <td>48.00</td>\n",
              "      <td>46.00</td>\n",
              "      <td>92.74</td>\n",
              "      <td>190.0</td>\n",
              "      <td>5.0</td>\n",
              "      <td>0.0</td>\n",
              "      <td>29.95</td>\n",
              "      <td>1013.8</td>\n",
              "      <td>5.0</td>\n",
              "    </tr>\n",
              "    <tr>\n",
              "      <th>78857</th>\n",
              "      <td>2021-12-31 21:00:00</td>\n",
              "      <td>2988.93</td>\n",
              "      <td>48.00</td>\n",
              "      <td>46.00</td>\n",
              "      <td>92.74</td>\n",
              "      <td>170.0</td>\n",
              "      <td>7.0</td>\n",
              "      <td>0.0</td>\n",
              "      <td>29.94</td>\n",
              "      <td>1013.5</td>\n",
              "      <td>5.0</td>\n",
              "    </tr>\n",
              "    <tr>\n",
              "      <th>78858</th>\n",
              "      <td>2021-12-31 22:00:00</td>\n",
              "      <td>2793.70</td>\n",
              "      <td>46.90</td>\n",
              "      <td>46.40</td>\n",
              "      <td>100.00</td>\n",
              "      <td>180.0</td>\n",
              "      <td>7.0</td>\n",
              "      <td>0.0</td>\n",
              "      <td>29.94</td>\n",
              "      <td>1013.8</td>\n",
              "      <td>5.0</td>\n",
              "    </tr>\n",
              "    <tr>\n",
              "      <th>78859</th>\n",
              "      <td>2021-12-31 23:00:00</td>\n",
              "      <td>2629.35</td>\n",
              "      <td>48.00</td>\n",
              "      <td>46.00</td>\n",
              "      <td>92.74</td>\n",
              "      <td>160.0</td>\n",
              "      <td>5.0</td>\n",
              "      <td>0.0</td>\n",
              "      <td>29.94</td>\n",
              "      <td>1013.3</td>\n",
              "      <td>4.0</td>\n",
              "    </tr>\n",
              "  </tbody>\n",
              "</table>\n",
              "<p>96427 rows × 11 columns</p>\n",
              "</div>\n",
              "      <button class=\"colab-df-convert\" onclick=\"convertToInteractive('df-98b12987-9a43-4b54-9f8c-25828b03f48f')\"\n",
              "              title=\"Convert this dataframe to an interactive table.\"\n",
              "              style=\"display:none;\">\n",
              "        \n",
              "  <svg xmlns=\"http://www.w3.org/2000/svg\" height=\"24px\"viewBox=\"0 0 24 24\"\n",
              "       width=\"24px\">\n",
              "    <path d=\"M0 0h24v24H0V0z\" fill=\"none\"/>\n",
              "    <path d=\"M18.56 5.44l.94 2.06.94-2.06 2.06-.94-2.06-.94-.94-2.06-.94 2.06-2.06.94zm-11 1L8.5 8.5l.94-2.06 2.06-.94-2.06-.94L8.5 2.5l-.94 2.06-2.06.94zm10 10l.94 2.06.94-2.06 2.06-.94-2.06-.94-.94-2.06-.94 2.06-2.06.94z\"/><path d=\"M17.41 7.96l-1.37-1.37c-.4-.4-.92-.59-1.43-.59-.52 0-1.04.2-1.43.59L10.3 9.45l-7.72 7.72c-.78.78-.78 2.05 0 2.83L4 21.41c.39.39.9.59 1.41.59.51 0 1.02-.2 1.41-.59l7.78-7.78 2.81-2.81c.8-.78.8-2.07 0-2.86zM5.41 20L4 18.59l7.72-7.72 1.47 1.35L5.41 20z\"/>\n",
              "  </svg>\n",
              "      </button>\n",
              "      \n",
              "  <style>\n",
              "    .colab-df-container {\n",
              "      display:flex;\n",
              "      flex-wrap:wrap;\n",
              "      gap: 12px;\n",
              "    }\n",
              "\n",
              "    .colab-df-convert {\n",
              "      background-color: #E8F0FE;\n",
              "      border: none;\n",
              "      border-radius: 50%;\n",
              "      cursor: pointer;\n",
              "      display: none;\n",
              "      fill: #1967D2;\n",
              "      height: 32px;\n",
              "      padding: 0 0 0 0;\n",
              "      width: 32px;\n",
              "    }\n",
              "\n",
              "    .colab-df-convert:hover {\n",
              "      background-color: #E2EBFA;\n",
              "      box-shadow: 0px 1px 2px rgba(60, 64, 67, 0.3), 0px 1px 3px 1px rgba(60, 64, 67, 0.15);\n",
              "      fill: #174EA6;\n",
              "    }\n",
              "\n",
              "    [theme=dark] .colab-df-convert {\n",
              "      background-color: #3B4455;\n",
              "      fill: #D2E3FC;\n",
              "    }\n",
              "\n",
              "    [theme=dark] .colab-df-convert:hover {\n",
              "      background-color: #434B5C;\n",
              "      box-shadow: 0px 1px 3px 1px rgba(0, 0, 0, 0.15);\n",
              "      filter: drop-shadow(0px 1px 2px rgba(0, 0, 0, 0.3));\n",
              "      fill: #FFFFFF;\n",
              "    }\n",
              "  </style>\n",
              "\n",
              "      <script>\n",
              "        const buttonEl =\n",
              "          document.querySelector('#df-98b12987-9a43-4b54-9f8c-25828b03f48f button.colab-df-convert');\n",
              "        buttonEl.style.display =\n",
              "          google.colab.kernel.accessAllowed ? 'block' : 'none';\n",
              "\n",
              "        async function convertToInteractive(key) {\n",
              "          const element = document.querySelector('#df-98b12987-9a43-4b54-9f8c-25828b03f48f');\n",
              "          const dataTable =\n",
              "            await google.colab.kernel.invokeFunction('convertToInteractive',\n",
              "                                                     [key], {});\n",
              "          if (!dataTable) return;\n",
              "\n",
              "          const docLinkHtml = 'Like what you see? Visit the ' +\n",
              "            '<a target=\"_blank\" href=https://colab.research.google.com/notebooks/data_table.ipynb>data table notebook</a>'\n",
              "            + ' to learn more about interactive tables.';\n",
              "          element.innerHTML = '';\n",
              "          dataTable['output_type'] = 'display_data';\n",
              "          await google.colab.output.renderOutput(dataTable, element);\n",
              "          const docLink = document.createElement('div');\n",
              "          docLink.innerHTML = docLinkHtml;\n",
              "          element.appendChild(docLink);\n",
              "        }\n",
              "      </script>\n",
              "    </div>\n",
              "  </div>\n",
              "  "
            ]
          },
          "metadata": {},
          "execution_count": 23
        }
      ]
    },
    {
      "cell_type": "code",
      "source": [
        "#Sorting\n",
        "df=df.sort_values(by='Datetime')"
      ],
      "metadata": {
        "id": "JZN1aORgunOZ"
      },
      "execution_count": null,
      "outputs": []
    },
    {
      "cell_type": "code",
      "source": [
        "df.head()"
      ],
      "metadata": {
        "colab": {
          "base_uri": "https://localhost:8080/",
          "height": 206
        },
        "id": "5PvZ2uC-usg6",
        "outputId": "817a2f15-0480-4cbf-b2a4-2694523e3a13"
      },
      "execution_count": null,
      "outputs": [
        {
          "output_type": "execute_result",
          "data": {
            "text/plain": [
              "                Datetime  Demand  BDL_tmpf  BDL_dwpf  BDL_relh  BDL_drct  \\\n",
              "8760 2011-01-01 00:00:00  3053.0     33.98     26.96       0.0       0.0   \n",
              "8761 2011-01-01 01:00:00  2892.0     33.98     26.96       0.0       0.0   \n",
              "8762 2011-01-01 02:00:00  2774.0     30.92     26.96       0.0       0.0   \n",
              "8763 2011-01-01 03:00:00  2710.0     30.02     26.06       0.0       0.0   \n",
              "8764 2011-01-01 04:00:00  2698.0     28.94     24.98       0.0       0.0   \n",
              "\n",
              "      BDL_sknt  BDL_p01i  BDL_alti  BDL_mslp  BDL_vsby  \n",
              "8760       0.0       0.0     30.07    1018.5       6.0  \n",
              "8761       0.0       0.0     30.07    1018.5       6.0  \n",
              "8762       0.0       0.0     30.07    1018.6       6.0  \n",
              "8763       0.0       0.0     30.09    1019.2       5.0  \n",
              "8764       0.0       0.0     30.09    1019.1       5.0  "
            ],
            "text/html": [
              "\n",
              "  <div id=\"df-6861a83d-de7c-4577-850e-d5d66c79fba0\">\n",
              "    <div class=\"colab-df-container\">\n",
              "      <div>\n",
              "<style scoped>\n",
              "    .dataframe tbody tr th:only-of-type {\n",
              "        vertical-align: middle;\n",
              "    }\n",
              "\n",
              "    .dataframe tbody tr th {\n",
              "        vertical-align: top;\n",
              "    }\n",
              "\n",
              "    .dataframe thead th {\n",
              "        text-align: right;\n",
              "    }\n",
              "</style>\n",
              "<table border=\"1\" class=\"dataframe\">\n",
              "  <thead>\n",
              "    <tr style=\"text-align: right;\">\n",
              "      <th></th>\n",
              "      <th>Datetime</th>\n",
              "      <th>Demand</th>\n",
              "      <th>BDL_tmpf</th>\n",
              "      <th>BDL_dwpf</th>\n",
              "      <th>BDL_relh</th>\n",
              "      <th>BDL_drct</th>\n",
              "      <th>BDL_sknt</th>\n",
              "      <th>BDL_p01i</th>\n",
              "      <th>BDL_alti</th>\n",
              "      <th>BDL_mslp</th>\n",
              "      <th>BDL_vsby</th>\n",
              "    </tr>\n",
              "  </thead>\n",
              "  <tbody>\n",
              "    <tr>\n",
              "      <th>8760</th>\n",
              "      <td>2011-01-01 00:00:00</td>\n",
              "      <td>3053.0</td>\n",
              "      <td>33.98</td>\n",
              "      <td>26.96</td>\n",
              "      <td>0.0</td>\n",
              "      <td>0.0</td>\n",
              "      <td>0.0</td>\n",
              "      <td>0.0</td>\n",
              "      <td>30.07</td>\n",
              "      <td>1018.5</td>\n",
              "      <td>6.0</td>\n",
              "    </tr>\n",
              "    <tr>\n",
              "      <th>8761</th>\n",
              "      <td>2011-01-01 01:00:00</td>\n",
              "      <td>2892.0</td>\n",
              "      <td>33.98</td>\n",
              "      <td>26.96</td>\n",
              "      <td>0.0</td>\n",
              "      <td>0.0</td>\n",
              "      <td>0.0</td>\n",
              "      <td>0.0</td>\n",
              "      <td>30.07</td>\n",
              "      <td>1018.5</td>\n",
              "      <td>6.0</td>\n",
              "    </tr>\n",
              "    <tr>\n",
              "      <th>8762</th>\n",
              "      <td>2011-01-01 02:00:00</td>\n",
              "      <td>2774.0</td>\n",
              "      <td>30.92</td>\n",
              "      <td>26.96</td>\n",
              "      <td>0.0</td>\n",
              "      <td>0.0</td>\n",
              "      <td>0.0</td>\n",
              "      <td>0.0</td>\n",
              "      <td>30.07</td>\n",
              "      <td>1018.6</td>\n",
              "      <td>6.0</td>\n",
              "    </tr>\n",
              "    <tr>\n",
              "      <th>8763</th>\n",
              "      <td>2011-01-01 03:00:00</td>\n",
              "      <td>2710.0</td>\n",
              "      <td>30.02</td>\n",
              "      <td>26.06</td>\n",
              "      <td>0.0</td>\n",
              "      <td>0.0</td>\n",
              "      <td>0.0</td>\n",
              "      <td>0.0</td>\n",
              "      <td>30.09</td>\n",
              "      <td>1019.2</td>\n",
              "      <td>5.0</td>\n",
              "    </tr>\n",
              "    <tr>\n",
              "      <th>8764</th>\n",
              "      <td>2011-01-01 04:00:00</td>\n",
              "      <td>2698.0</td>\n",
              "      <td>28.94</td>\n",
              "      <td>24.98</td>\n",
              "      <td>0.0</td>\n",
              "      <td>0.0</td>\n",
              "      <td>0.0</td>\n",
              "      <td>0.0</td>\n",
              "      <td>30.09</td>\n",
              "      <td>1019.1</td>\n",
              "      <td>5.0</td>\n",
              "    </tr>\n",
              "  </tbody>\n",
              "</table>\n",
              "</div>\n",
              "      <button class=\"colab-df-convert\" onclick=\"convertToInteractive('df-6861a83d-de7c-4577-850e-d5d66c79fba0')\"\n",
              "              title=\"Convert this dataframe to an interactive table.\"\n",
              "              style=\"display:none;\">\n",
              "        \n",
              "  <svg xmlns=\"http://www.w3.org/2000/svg\" height=\"24px\"viewBox=\"0 0 24 24\"\n",
              "       width=\"24px\">\n",
              "    <path d=\"M0 0h24v24H0V0z\" fill=\"none\"/>\n",
              "    <path d=\"M18.56 5.44l.94 2.06.94-2.06 2.06-.94-2.06-.94-.94-2.06-.94 2.06-2.06.94zm-11 1L8.5 8.5l.94-2.06 2.06-.94-2.06-.94L8.5 2.5l-.94 2.06-2.06.94zm10 10l.94 2.06.94-2.06 2.06-.94-2.06-.94-.94-2.06-.94 2.06-2.06.94z\"/><path d=\"M17.41 7.96l-1.37-1.37c-.4-.4-.92-.59-1.43-.59-.52 0-1.04.2-1.43.59L10.3 9.45l-7.72 7.72c-.78.78-.78 2.05 0 2.83L4 21.41c.39.39.9.59 1.41.59.51 0 1.02-.2 1.41-.59l7.78-7.78 2.81-2.81c.8-.78.8-2.07 0-2.86zM5.41 20L4 18.59l7.72-7.72 1.47 1.35L5.41 20z\"/>\n",
              "  </svg>\n",
              "      </button>\n",
              "      \n",
              "  <style>\n",
              "    .colab-df-container {\n",
              "      display:flex;\n",
              "      flex-wrap:wrap;\n",
              "      gap: 12px;\n",
              "    }\n",
              "\n",
              "    .colab-df-convert {\n",
              "      background-color: #E8F0FE;\n",
              "      border: none;\n",
              "      border-radius: 50%;\n",
              "      cursor: pointer;\n",
              "      display: none;\n",
              "      fill: #1967D2;\n",
              "      height: 32px;\n",
              "      padding: 0 0 0 0;\n",
              "      width: 32px;\n",
              "    }\n",
              "\n",
              "    .colab-df-convert:hover {\n",
              "      background-color: #E2EBFA;\n",
              "      box-shadow: 0px 1px 2px rgba(60, 64, 67, 0.3), 0px 1px 3px 1px rgba(60, 64, 67, 0.15);\n",
              "      fill: #174EA6;\n",
              "    }\n",
              "\n",
              "    [theme=dark] .colab-df-convert {\n",
              "      background-color: #3B4455;\n",
              "      fill: #D2E3FC;\n",
              "    }\n",
              "\n",
              "    [theme=dark] .colab-df-convert:hover {\n",
              "      background-color: #434B5C;\n",
              "      box-shadow: 0px 1px 3px 1px rgba(0, 0, 0, 0.15);\n",
              "      filter: drop-shadow(0px 1px 2px rgba(0, 0, 0, 0.3));\n",
              "      fill: #FFFFFF;\n",
              "    }\n",
              "  </style>\n",
              "\n",
              "      <script>\n",
              "        const buttonEl =\n",
              "          document.querySelector('#df-6861a83d-de7c-4577-850e-d5d66c79fba0 button.colab-df-convert');\n",
              "        buttonEl.style.display =\n",
              "          google.colab.kernel.accessAllowed ? 'block' : 'none';\n",
              "\n",
              "        async function convertToInteractive(key) {\n",
              "          const element = document.querySelector('#df-6861a83d-de7c-4577-850e-d5d66c79fba0');\n",
              "          const dataTable =\n",
              "            await google.colab.kernel.invokeFunction('convertToInteractive',\n",
              "                                                     [key], {});\n",
              "          if (!dataTable) return;\n",
              "\n",
              "          const docLinkHtml = 'Like what you see? Visit the ' +\n",
              "            '<a target=\"_blank\" href=https://colab.research.google.com/notebooks/data_table.ipynb>data table notebook</a>'\n",
              "            + ' to learn more about interactive tables.';\n",
              "          element.innerHTML = '';\n",
              "          dataTable['output_type'] = 'display_data';\n",
              "          await google.colab.output.renderOutput(dataTable, element);\n",
              "          const docLink = document.createElement('div');\n",
              "          docLink.innerHTML = docLinkHtml;\n",
              "          element.appendChild(docLink);\n",
              "        }\n",
              "      </script>\n",
              "    </div>\n",
              "  </div>\n",
              "  "
            ]
          },
          "metadata": {},
          "execution_count": 25
        }
      ]
    },
    {
      "cell_type": "markdown",
      "source": [
        "##Data Visualization"
      ],
      "metadata": {
        "id": "s3SqOxmDnFsg"
      }
    },
    {
      "cell_type": "code",
      "source": [
        "from matplotlib.pyplot import figure\n",
        "\n",
        "# visualize the data\n",
        "df['Demand'].plot()\n",
        "plt.show()"
      ],
      "metadata": {
        "colab": {
          "base_uri": "https://localhost:8080/",
          "height": 265
        },
        "id": "HMQwOay5v3zS",
        "outputId": "eb4b6378-cb03-49dd-e8d5-c0add819b4c9"
      },
      "execution_count": null,
      "outputs": [
        {
          "output_type": "display_data",
          "data": {
            "text/plain": [
              "<Figure size 432x288 with 1 Axes>"
            ],
            "image/png": "[encoded data removed]"
          },
          "metadata": {
            "needs_background": "light"
          }
        }
      ]
    },
    {
      "cell_type": "code",
      "source": [
        "df.plot(subplots=True,\n",
        "        grid=True, \n",
        "        layout=(3,4),\n",
        "         figsize=(15,15))\n",
        "plt.show()"
      ],
      "metadata": {
        "colab": {
          "base_uri": "https://localhost:8080/",
          "height": 863
        },
        "id": "s3kVTt1mnKR0",
        "outputId": "350bf064-eec6-4e5a-e880-4d555f6fb4db"
      },
      "execution_count": null,
      "outputs": [
        {
          "output_type": "display_data",
          "data": {
            "text/plain": [
              "<Figure size 1080x1080 with 12 Axes>"
            ],
            "image/png": "[encoded data removed]"
          },
          "metadata": {
            "needs_background": "light"
          }
        }
      ]
    },
    {
      "cell_type": "code",
      "source": [
        "print(df.shape)\n",
        "df.tail()"
      ],
      "metadata": {
        "colab": {
          "base_uri": "https://localhost:8080/",
          "height": 223
        },
        "id": "Vj7Gi1JLq40q",
        "outputId": "1d7f3597-f05b-4251-90c7-8f70ddce5e87"
      },
      "execution_count": null,
      "outputs": [
        {
          "output_type": "stream",
          "name": "stdout",
          "text": [
            "(96427, 11)\n"
          ]
        },
        {
          "output_type": "execute_result",
          "data": {
            "text/plain": [
              "                 Datetime   Demand  BDL_tmpf  BDL_dwpf  BDL_relh  BDL_drct  \\\n",
              "78855 2021-12-31 19:00:00  3310.60      48.0      45.0     89.29     190.0   \n",
              "78856 2021-12-31 20:00:00  3148.00      48.0      46.0     92.74     190.0   \n",
              "78857 2021-12-31 21:00:00  2988.93      48.0      46.0     92.74     170.0   \n",
              "78858 2021-12-31 22:00:00  2793.70      46.9      46.4    100.00     180.0   \n",
              "78859 2021-12-31 23:00:00  2629.35      48.0      46.0     92.74     160.0   \n",
              "\n",
              "       BDL_sknt  BDL_p01i  BDL_alti  BDL_mslp  BDL_vsby  \n",
              "78855       7.0       0.0     29.95    1014.2       6.0  \n",
              "78856       5.0       0.0     29.95    1013.8       5.0  \n",
              "78857       7.0       0.0     29.94    1013.5       5.0  \n",
              "78858       7.0       0.0     29.94    1013.8       5.0  \n",
              "78859       5.0       0.0     29.94    1013.3       4.0  "
            ],
            "text/html": [
              "\n",
              "  <div id=\"df-84fc8f4a-a169-4edf-bb97-a06f29cd35c2\">\n",
              "    <div class=\"colab-df-container\">\n",
              "      <div>\n",
              "<style scoped>\n",
              "    .dataframe tbody tr th:only-of-type {\n",
              "        vertical-align: middle;\n",
              "    }\n",
              "\n",
              "    .dataframe tbody tr th {\n",
              "        vertical-align: top;\n",
              "    }\n",
              "\n",
              "    .dataframe thead th {\n",
              "        text-align: right;\n",
              "    }\n",
              "</style>\n",
              "<table border=\"1\" class=\"dataframe\">\n",
              "  <thead>\n",
              "    <tr style=\"text-align: right;\">\n",
              "      <th></th>\n",
              "      <th>Datetime</th>\n",
              "      <th>Demand</th>\n",
              "      <th>BDL_tmpf</th>\n",
              "      <th>BDL_dwpf</th>\n",
              "      <th>BDL_relh</th>\n",
              "      <th>BDL_drct</th>\n",
              "      <th>BDL_sknt</th>\n",
              "      <th>BDL_p01i</th>\n",
              "      <th>BDL_alti</th>\n",
              "      <th>BDL_mslp</th>\n",
              "      <th>BDL_vsby</th>\n",
              "    </tr>\n",
              "  </thead>\n",
              "  <tbody>\n",
              "    <tr>\n",
              "      <th>78855</th>\n",
              "      <td>2021-12-31 19:00:00</td>\n",
              "      <td>3310.60</td>\n",
              "      <td>48.0</td>\n",
              "      <td>45.0</td>\n",
              "      <td>89.29</td>\n",
              "      <td>190.0</td>\n",
              "      <td>7.0</td>\n",
              "      <td>0.0</td>\n",
              "      <td>29.95</td>\n",
              "      <td>1014.2</td>\n",
              "      <td>6.0</td>\n",
              "    </tr>\n",
              "    <tr>\n",
              "      <th>78856</th>\n",
              "      <td>2021-12-31 20:00:00</td>\n",
              "      <td>3148.00</td>\n",
              "      <td>48.0</td>\n",
              "      <td>46.0</td>\n",
              "      <td>92.74</td>\n",
              "      <td>190.0</td>\n",
              "      <td>5.0</td>\n",
              "      <td>0.0</td>\n",
              "      <td>29.95</td>\n",
              "      <td>1013.8</td>\n",
              "      <td>5.0</td>\n",
              "    </tr>\n",
              "    <tr>\n",
              "      <th>78857</th>\n",
              "      <td>2021-12-31 21:00:00</td>\n",
              "      <td>2988.93</td>\n",
              "      <td>48.0</td>\n",
              "      <td>46.0</td>\n",
              "      <td>92.74</td>\n",
              "      <td>170.0</td>\n",
              "      <td>7.0</td>\n",
              "      <td>0.0</td>\n",
              "      <td>29.94</td>\n",
              "      <td>1013.5</td>\n",
              "      <td>5.0</td>\n",
              "    </tr>\n",
              "    <tr>\n",
              "      <th>78858</th>\n",
              "      <td>2021-12-31 22:00:00</td>\n",
              "      <td>2793.70</td>\n",
              "      <td>46.9</td>\n",
              "      <td>46.4</td>\n",
              "      <td>100.00</td>\n",
              "      <td>180.0</td>\n",
              "      <td>7.0</td>\n",
              "      <td>0.0</td>\n",
              "      <td>29.94</td>\n",
              "      <td>1013.8</td>\n",
              "      <td>5.0</td>\n",
              "    </tr>\n",
              "    <tr>\n",
              "      <th>78859</th>\n",
              "      <td>2021-12-31 23:00:00</td>\n",
              "      <td>2629.35</td>\n",
              "      <td>48.0</td>\n",
              "      <td>46.0</td>\n",
              "      <td>92.74</td>\n",
              "      <td>160.0</td>\n",
              "      <td>5.0</td>\n",
              "      <td>0.0</td>\n",
              "      <td>29.94</td>\n",
              "      <td>1013.3</td>\n",
              "      <td>4.0</td>\n",
              "    </tr>\n",
              "  </tbody>\n",
              "</table>\n",
              "</div>\n",
              "      <button class=\"colab-df-convert\" onclick=\"convertToInteractive('df-84fc8f4a-a169-4edf-bb97-a06f29cd35c2')\"\n",
              "              title=\"Convert this dataframe to an interactive table.\"\n",
              "              style=\"display:none;\">\n",
              "        \n",
              "  <svg xmlns=\"http://www.w3.org/2000/svg\" height=\"24px\"viewBox=\"0 0 24 24\"\n",
              "       width=\"24px\">\n",
              "    <path d=\"M0 0h24v24H0V0z\" fill=\"none\"/>\n",
              "    <path d=\"M18.56 5.44l.94 2.06.94-2.06 2.06-.94-2.06-.94-.94-2.06-.94 2.06-2.06.94zm-11 1L8.5 8.5l.94-2.06 2.06-.94-2.06-.94L8.5 2.5l-.94 2.06-2.06.94zm10 10l.94 2.06.94-2.06 2.06-.94-2.06-.94-.94-2.06-.94 2.06-2.06.94z\"/><path d=\"M17.41 7.96l-1.37-1.37c-.4-.4-.92-.59-1.43-.59-.52 0-1.04.2-1.43.59L10.3 9.45l-7.72 7.72c-.78.78-.78 2.05 0 2.83L4 21.41c.39.39.9.59 1.41.59.51 0 1.02-.2 1.41-.59l7.78-7.78 2.81-2.81c.8-.78.8-2.07 0-2.86zM5.41 20L4 18.59l7.72-7.72 1.47 1.35L5.41 20z\"/>\n",
              "  </svg>\n",
              "      </button>\n",
              "      \n",
              "  <style>\n",
              "    .colab-df-container {\n",
              "      display:flex;\n",
              "      flex-wrap:wrap;\n",
              "      gap: 12px;\n",
              "    }\n",
              "\n",
              "    .colab-df-convert {\n",
              "      background-color: #E8F0FE;\n",
              "      border: none;\n",
              "      border-radius: 50%;\n",
              "      cursor: pointer;\n",
              "      display: none;\n",
              "      fill: #1967D2;\n",
              "      height: 32px;\n",
              "      padding: 0 0 0 0;\n",
              "      width: 32px;\n",
              "    }\n",
              "\n",
              "    .colab-df-convert:hover {\n",
              "      background-color: #E2EBFA;\n",
              "      box-shadow: 0px 1px 2px rgba(60, 64, 67, 0.3), 0px 1px 3px 1px rgba(60, 64, 67, 0.15);\n",
              "      fill: #174EA6;\n",
              "    }\n",
              "\n",
              "    [theme=dark] .colab-df-convert {\n",
              "      background-color: #3B4455;\n",
              "      fill: #D2E3FC;\n",
              "    }\n",
              "\n",
              "    [theme=dark] .colab-df-convert:hover {\n",
              "      background-color: #434B5C;\n",
              "      box-shadow: 0px 1px 3px 1px rgba(0, 0, 0, 0.15);\n",
              "      filter: drop-shadow(0px 1px 2px rgba(0, 0, 0, 0.3));\n",
              "      fill: #FFFFFF;\n",
              "    }\n",
              "  </style>\n",
              "\n",
              "      <script>\n",
              "        const buttonEl =\n",
              "          document.querySelector('#df-84fc8f4a-a169-4edf-bb97-a06f29cd35c2 button.colab-df-convert');\n",
              "        buttonEl.style.display =\n",
              "          google.colab.kernel.accessAllowed ? 'block' : 'none';\n",
              "\n",
              "        async function convertToInteractive(key) {\n",
              "          const element = document.querySelector('#df-84fc8f4a-a169-4edf-bb97-a06f29cd35c2');\n",
              "          const dataTable =\n",
              "            await google.colab.kernel.invokeFunction('convertToInteractive',\n",
              "                                                     [key], {});\n",
              "          if (!dataTable) return;\n",
              "\n",
              "          const docLinkHtml = 'Like what you see? Visit the ' +\n",
              "            '<a target=\"_blank\" href=https://colab.research.google.com/notebooks/data_table.ipynb>data table notebook</a>'\n",
              "            + ' to learn more about interactive tables.';\n",
              "          element.innerHTML = '';\n",
              "          dataTable['output_type'] = 'display_data';\n",
              "          await google.colab.output.renderOutput(dataTable, element);\n",
              "          const docLink = document.createElement('div');\n",
              "          docLink.innerHTML = docLinkHtml;\n",
              "          element.appendChild(docLink);\n",
              "        }\n",
              "      </script>\n",
              "    </div>\n",
              "  </div>\n",
              "  "
            ]
          },
          "metadata": {},
          "execution_count": 27
        }
      ]
    },
    {
      "cell_type": "code",
      "source": [
        "df.info()"
      ],
      "metadata": {
        "colab": {
          "base_uri": "https://localhost:8080/"
        },
        "id": "vifG3f02sX0Q",
        "outputId": "1985e8be-6ecf-43a2-b30b-f27fc00d62cd"
      },
      "execution_count": null,
      "outputs": [
        {
          "output_type": "stream",
          "name": "stdout",
          "text": [
            "<class 'pandas.core.frame.DataFrame'>\n",
            "Int64Index: 96427 entries, 8760 to 78859\n",
            "Data columns (total 11 columns):\n",
            " #   Column    Non-Null Count  Dtype         \n",
            "---  ------    --------------  -----         \n",
            " 0   Datetime  96427 non-null  datetime64[ns]\n",
            " 1   Demand    96427 non-null  float64       \n",
            " 2   BDL_tmpf  96160 non-null  float64       \n",
            " 3   BDL_dwpf  96160 non-null  float64       \n",
            " 4   BDL_relh  96160 non-null  float64       \n",
            " 5   BDL_drct  96160 non-null  float64       \n",
            " 6   BDL_sknt  96160 non-null  float64       \n",
            " 7   BDL_p01i  96160 non-null  float64       \n",
            " 8   BDL_alti  96160 non-null  float64       \n",
            " 9   BDL_mslp  96160 non-null  float64       \n",
            " 10  BDL_vsby  96160 non-null  float64       \n",
            "dtypes: datetime64[ns](1), float64(10)\n",
            "memory usage: 8.8 MB\n"
          ]
        }
      ]
    },
    {
      "cell_type": "markdown",
      "source": [
        "##Data Cleaning"
      ],
      "metadata": {
        "id": "YTKbE3z1wSCx"
      }
    },
    {
      "cell_type": "code",
      "source": [
        "# Remove the date column\n",
        "df.drop(['Datetime'], inplace=True, axis=1)\n",
        "print(df.shape)\n",
        "df.head()"
      ],
      "metadata": {
        "colab": {
          "base_uri": "https://localhost:8080/",
          "height": 223
        },
        "id": "vjU4utAOwUcr",
        "outputId": "3a548ec4-6b35-46c6-b93e-72c1dc4c8cd7"
      },
      "execution_count": null,
      "outputs": [
        {
          "output_type": "stream",
          "name": "stdout",
          "text": [
            "(96427, 10)\n"
          ]
        },
        {
          "output_type": "execute_result",
          "data": {
            "text/plain": [
              "      Demand  BDL_tmpf  BDL_dwpf  BDL_relh  BDL_drct  BDL_sknt  BDL_p01i  \\\n",
              "8760  3053.0     33.98     26.96       0.0       0.0       0.0       0.0   \n",
              "8761  2892.0     33.98     26.96       0.0       0.0       0.0       0.0   \n",
              "8762  2774.0     30.92     26.96       0.0       0.0       0.0       0.0   \n",
              "8763  2710.0     30.02     26.06       0.0       0.0       0.0       0.0   \n",
              "8764  2698.0     28.94     24.98       0.0       0.0       0.0       0.0   \n",
              "\n",
              "      BDL_alti  BDL_mslp  BDL_vsby  \n",
              "8760     30.07    1018.5       6.0  \n",
              "8761     30.07    1018.5       6.0  \n",
              "8762     30.07    1018.6       6.0  \n",
              "8763     30.09    1019.2       5.0  \n",
              "8764     30.09    1019.1       5.0  "
            ],
            "text/html": [
              "\n",
              "  <div id=\"df-2fd8e7d4-68d8-41d4-96b6-3412838f90da\">\n",
              "    <div class=\"colab-df-container\">\n",
              "      <div>\n",
              "<style scoped>\n",
              "    .dataframe tbody tr th:only-of-type {\n",
              "        vertical-align: middle;\n",
              "    }\n",
              "\n",
              "    .dataframe tbody tr th {\n",
              "        vertical-align: top;\n",
              "    }\n",
              "\n",
              "    .dataframe thead th {\n",
              "        text-align: right;\n",
              "    }\n",
              "</style>\n",
              "<table border=\"1\" class=\"dataframe\">\n",
              "  <thead>\n",
              "    <tr style=\"text-align: right;\">\n",
              "      <th></th>\n",
              "      <th>Demand</th>\n",
              "      <th>BDL_tmpf</th>\n",
              "      <th>BDL_dwpf</th>\n",
              "      <th>BDL_relh</th>\n",
              "      <th>BDL_drct</th>\n",
              "      <th>BDL_sknt</th>\n",
              "      <th>BDL_p01i</th>\n",
              "      <th>BDL_alti</th>\n",
              "      <th>BDL_mslp</th>\n",
              "      <th>BDL_vsby</th>\n",
              "    </tr>\n",
              "  </thead>\n",
              "  <tbody>\n",
              "    <tr>\n",
              "      <th>8760</th>\n",
              "      <td>3053.0</td>\n",
              "      <td>33.98</td>\n",
              "      <td>26.96</td>\n",
              "      <td>0.0</td>\n",
              "      <td>0.0</td>\n",
              "      <td>0.0</td>\n",
              "      <td>0.0</td>\n",
              "      <td>30.07</td>\n",
              "      <td>1018.5</td>\n",
              "      <td>6.0</td>\n",
              "    </tr>\n",
              "    <tr>\n",
              "      <th>8761</th>\n",
              "      <td>2892.0</td>\n",
              "      <td>33.98</td>\n",
              "      <td>26.96</td>\n",
              "      <td>0.0</td>\n",
              "      <td>0.0</td>\n",
              "      <td>0.0</td>\n",
              "      <td>0.0</td>\n",
              "      <td>30.07</td>\n",
              "      <td>1018.5</td>\n",
              "      <td>6.0</td>\n",
              "    </tr>\n",
              "    <tr>\n",
              "      <th>8762</th>\n",
              "      <td>2774.0</td>\n",
              "      <td>30.92</td>\n",
              "      <td>26.96</td>\n",
              "      <td>0.0</td>\n",
              "      <td>0.0</td>\n",
              "      <td>0.0</td>\n",
              "      <td>0.0</td>\n",
              "      <td>30.07</td>\n",
              "      <td>1018.6</td>\n",
              "      <td>6.0</td>\n",
              "    </tr>\n",
              "    <tr>\n",
              "      <th>8763</th>\n",
              "      <td>2710.0</td>\n",
              "      <td>30.02</td>\n",
              "      <td>26.06</td>\n",
              "      <td>0.0</td>\n",
              "      <td>0.0</td>\n",
              "      <td>0.0</td>\n",
              "      <td>0.0</td>\n",
              "      <td>30.09</td>\n",
              "      <td>1019.2</td>\n",
              "      <td>5.0</td>\n",
              "    </tr>\n",
              "    <tr>\n",
              "      <th>8764</th>\n",
              "      <td>2698.0</td>\n",
              "      <td>28.94</td>\n",
              "      <td>24.98</td>\n",
              "      <td>0.0</td>\n",
              "      <td>0.0</td>\n",
              "      <td>0.0</td>\n",
              "      <td>0.0</td>\n",
              "      <td>30.09</td>\n",
              "      <td>1019.1</td>\n",
              "      <td>5.0</td>\n",
              "    </tr>\n",
              "  </tbody>\n",
              "</table>\n",
              "</div>\n",
              "      <button class=\"colab-df-convert\" onclick=\"convertToInteractive('df-2fd8e7d4-68d8-41d4-96b6-3412838f90da')\"\n",
              "              title=\"Convert this dataframe to an interactive table.\"\n",
              "              style=\"display:none;\">\n",
              "        \n",
              "  <svg xmlns=\"http://www.w3.org/2000/svg\" height=\"24px\"viewBox=\"0 0 24 24\"\n",
              "       width=\"24px\">\n",
              "    <path d=\"M0 0h24v24H0V0z\" fill=\"none\"/>\n",
              "    <path d=\"M18.56 5.44l.94 2.06.94-2.06 2.06-.94-2.06-.94-.94-2.06-.94 2.06-2.06.94zm-11 1L8.5 8.5l.94-2.06 2.06-.94-2.06-.94L8.5 2.5l-.94 2.06-2.06.94zm10 10l.94 2.06.94-2.06 2.06-.94-2.06-.94-.94-2.06-.94 2.06-2.06.94z\"/><path d=\"M17.41 7.96l-1.37-1.37c-.4-.4-.92-.59-1.43-.59-.52 0-1.04.2-1.43.59L10.3 9.45l-7.72 7.72c-.78.78-.78 2.05 0 2.83L4 21.41c.39.39.9.59 1.41.59.51 0 1.02-.2 1.41-.59l7.78-7.78 2.81-2.81c.8-.78.8-2.07 0-2.86zM5.41 20L4 18.59l7.72-7.72 1.47 1.35L5.41 20z\"/>\n",
              "  </svg>\n",
              "      </button>\n",
              "      \n",
              "  <style>\n",
              "    .colab-df-container {\n",
              "      display:flex;\n",
              "      flex-wrap:wrap;\n",
              "      gap: 12px;\n",
              "    }\n",
              "\n",
              "    .colab-df-convert {\n",
              "      background-color: #E8F0FE;\n",
              "      border: none;\n",
              "      border-radius: 50%;\n",
              "      cursor: pointer;\n",
              "      display: none;\n",
              "      fill: #1967D2;\n",
              "      height: 32px;\n",
              "      padding: 0 0 0 0;\n",
              "      width: 32px;\n",
              "    }\n",
              "\n",
              "    .colab-df-convert:hover {\n",
              "      background-color: #E2EBFA;\n",
              "      box-shadow: 0px 1px 2px rgba(60, 64, 67, 0.3), 0px 1px 3px 1px rgba(60, 64, 67, 0.15);\n",
              "      fill: #174EA6;\n",
              "    }\n",
              "\n",
              "    [theme=dark] .colab-df-convert {\n",
              "      background-color: #3B4455;\n",
              "      fill: #D2E3FC;\n",
              "    }\n",
              "\n",
              "    [theme=dark] .colab-df-convert:hover {\n",
              "      background-color: #434B5C;\n",
              "      box-shadow: 0px 1px 3px 1px rgba(0, 0, 0, 0.15);\n",
              "      filter: drop-shadow(0px 1px 2px rgba(0, 0, 0, 0.3));\n",
              "      fill: #FFFFFF;\n",
              "    }\n",
              "  </style>\n",
              "\n",
              "      <script>\n",
              "        const buttonEl =\n",
              "          document.querySelector('#df-2fd8e7d4-68d8-41d4-96b6-3412838f90da button.colab-df-convert');\n",
              "        buttonEl.style.display =\n",
              "          google.colab.kernel.accessAllowed ? 'block' : 'none';\n",
              "\n",
              "        async function convertToInteractive(key) {\n",
              "          const element = document.querySelector('#df-2fd8e7d4-68d8-41d4-96b6-3412838f90da');\n",
              "          const dataTable =\n",
              "            await google.colab.kernel.invokeFunction('convertToInteractive',\n",
              "                                                     [key], {});\n",
              "          if (!dataTable) return;\n",
              "\n",
              "          const docLinkHtml = 'Like what you see? Visit the ' +\n",
              "            '<a target=\"_blank\" href=https://colab.research.google.com/notebooks/data_table.ipynb>data table notebook</a>'\n",
              "            + ' to learn more about interactive tables.';\n",
              "          element.innerHTML = '';\n",
              "          dataTable['output_type'] = 'display_data';\n",
              "          await google.colab.output.renderOutput(dataTable, element);\n",
              "          const docLink = document.createElement('div');\n",
              "          docLink.innerHTML = docLinkHtml;\n",
              "          element.appendChild(docLink);\n",
              "        }\n",
              "      </script>\n",
              "    </div>\n",
              "  </div>\n",
              "  "
            ]
          },
          "metadata": {},
          "execution_count": 29
        }
      ]
    },
    {
      "cell_type": "code",
      "source": [
        "#Move the dependent(Y) variable to the end \n",
        "df=df[['BDL_tmpf', 'BDL_dwpf', 'BDL_relh', 'BDL_drct', 'BDL_sknt',\n",
        "       'BDL_p01i', 'BDL_alti', 'BDL_mslp', 'BDL_vsby','Demand']]"
      ],
      "metadata": {
        "id": "pbyJIvGwwd8i"
      },
      "execution_count": null,
      "outputs": []
    },
    {
      "cell_type": "code",
      "source": [
        "df.head()"
      ],
      "metadata": {
        "colab": {
          "base_uri": "https://localhost:8080/",
          "height": 206
        },
        "id": "rj69D4MRwoOJ",
        "outputId": "8d431573-7452-4e3a-f087-06ecc2beb353"
      },
      "execution_count": null,
      "outputs": [
        {
          "output_type": "execute_result",
          "data": {
            "text/plain": [
              "      BDL_tmpf  BDL_dwpf  BDL_relh  BDL_drct  BDL_sknt  BDL_p01i  BDL_alti  \\\n",
              "8760     33.98     26.96       0.0       0.0       0.0       0.0     30.07   \n",
              "8761     33.98     26.96       0.0       0.0       0.0       0.0     30.07   \n",
              "8762     30.92     26.96       0.0       0.0       0.0       0.0     30.07   \n",
              "8763     30.02     26.06       0.0       0.0       0.0       0.0     30.09   \n",
              "8764     28.94     24.98       0.0       0.0       0.0       0.0     30.09   \n",
              "\n",
              "      BDL_mslp  BDL_vsby  Demand  \n",
              "8760    1018.5       6.0  3053.0  \n",
              "8761    1018.5       6.0  2892.0  \n",
              "8762    1018.6       6.0  2774.0  \n",
              "8763    1019.2       5.0  2710.0  \n",
              "8764    1019.1       5.0  2698.0  "
            ],
            "text/html": [
              "\n",
              "  <div id=\"df-3854235e-3ea2-47ee-bfd5-596b439d7ccc\">\n",
              "    <div class=\"colab-df-container\">\n",
              "      <div>\n",
              "<style scoped>\n",
              "    .dataframe tbody tr th:only-of-type {\n",
              "        vertical-align: middle;\n",
              "    }\n",
              "\n",
              "    .dataframe tbody tr th {\n",
              "        vertical-align: top;\n",
              "    }\n",
              "\n",
              "    .dataframe thead th {\n",
              "        text-align: right;\n",
              "    }\n",
              "</style>\n",
              "<table border=\"1\" class=\"dataframe\">\n",
              "  <thead>\n",
              "    <tr style=\"text-align: right;\">\n",
              "      <th></th>\n",
              "      <th>BDL_tmpf</th>\n",
              "      <th>BDL_dwpf</th>\n",
              "      <th>BDL_relh</th>\n",
              "      <th>BDL_drct</th>\n",
              "      <th>BDL_sknt</th>\n",
              "      <th>BDL_p01i</th>\n",
              "      <th>BDL_alti</th>\n",
              "      <th>BDL_mslp</th>\n",
              "      <th>BDL_vsby</th>\n",
              "      <th>Demand</th>\n",
              "    </tr>\n",
              "  </thead>\n",
              "  <tbody>\n",
              "    <tr>\n",
              "      <th>8760</th>\n",
              "      <td>33.98</td>\n",
              "      <td>26.96</td>\n",
              "      <td>0.0</td>\n",
              "      <td>0.0</td>\n",
              "      <td>0.0</td>\n",
              "      <td>0.0</td>\n",
              "      <td>30.07</td>\n",
              "      <td>1018.5</td>\n",
              "      <td>6.0</td>\n",
              "      <td>3053.0</td>\n",
              "    </tr>\n",
              "    <tr>\n",
              "      <th>8761</th>\n",
              "      <td>33.98</td>\n",
              "      <td>26.96</td>\n",
              "      <td>0.0</td>\n",
              "      <td>0.0</td>\n",
              "      <td>0.0</td>\n",
              "      <td>0.0</td>\n",
              "      <td>30.07</td>\n",
              "      <td>1018.5</td>\n",
              "      <td>6.0</td>\n",
              "      <td>2892.0</td>\n",
              "    </tr>\n",
              "    <tr>\n",
              "      <th>8762</th>\n",
              "      <td>30.92</td>\n",
              "      <td>26.96</td>\n",
              "      <td>0.0</td>\n",
              "      <td>0.0</td>\n",
              "      <td>0.0</td>\n",
              "      <td>0.0</td>\n",
              "      <td>30.07</td>\n",
              "      <td>1018.6</td>\n",
              "      <td>6.0</td>\n",
              "      <td>2774.0</td>\n",
              "    </tr>\n",
              "    <tr>\n",
              "      <th>8763</th>\n",
              "      <td>30.02</td>\n",
              "      <td>26.06</td>\n",
              "      <td>0.0</td>\n",
              "      <td>0.0</td>\n",
              "      <td>0.0</td>\n",
              "      <td>0.0</td>\n",
              "      <td>30.09</td>\n",
              "      <td>1019.2</td>\n",
              "      <td>5.0</td>\n",
              "      <td>2710.0</td>\n",
              "    </tr>\n",
              "    <tr>\n",
              "      <th>8764</th>\n",
              "      <td>28.94</td>\n",
              "      <td>24.98</td>\n",
              "      <td>0.0</td>\n",
              "      <td>0.0</td>\n",
              "      <td>0.0</td>\n",
              "      <td>0.0</td>\n",
              "      <td>30.09</td>\n",
              "      <td>1019.1</td>\n",
              "      <td>5.0</td>\n",
              "      <td>2698.0</td>\n",
              "    </tr>\n",
              "  </tbody>\n",
              "</table>\n",
              "</div>\n",
              "      <button class=\"colab-df-convert\" onclick=\"convertToInteractive('df-3854235e-3ea2-47ee-bfd5-596b439d7ccc')\"\n",
              "              title=\"Convert this dataframe to an interactive table.\"\n",
              "              style=\"display:none;\">\n",
              "        \n",
              "  <svg xmlns=\"http://www.w3.org/2000/svg\" height=\"24px\"viewBox=\"0 0 24 24\"\n",
              "       width=\"24px\">\n",
              "    <path d=\"M0 0h24v24H0V0z\" fill=\"none\"/>\n",
              "    <path d=\"M18.56 5.44l.94 2.06.94-2.06 2.06-.94-2.06-.94-.94-2.06-.94 2.06-2.06.94zm-11 1L8.5 8.5l.94-2.06 2.06-.94-2.06-.94L8.5 2.5l-.94 2.06-2.06.94zm10 10l.94 2.06.94-2.06 2.06-.94-2.06-.94-.94-2.06-.94 2.06-2.06.94z\"/><path d=\"M17.41 7.96l-1.37-1.37c-.4-.4-.92-.59-1.43-.59-.52 0-1.04.2-1.43.59L10.3 9.45l-7.72 7.72c-.78.78-.78 2.05 0 2.83L4 21.41c.39.39.9.59 1.41.59.51 0 1.02-.2 1.41-.59l7.78-7.78 2.81-2.81c.8-.78.8-2.07 0-2.86zM5.41 20L4 18.59l7.72-7.72 1.47 1.35L5.41 20z\"/>\n",
              "  </svg>\n",
              "      </button>\n",
              "      \n",
              "  <style>\n",
              "    .colab-df-container {\n",
              "      display:flex;\n",
              "      flex-wrap:wrap;\n",
              "      gap: 12px;\n",
              "    }\n",
              "\n",
              "    .colab-df-convert {\n",
              "      background-color: #E8F0FE;\n",
              "      border: none;\n",
              "      border-radius: 50%;\n",
              "      cursor: pointer;\n",
              "      display: none;\n",
              "      fill: #1967D2;\n",
              "      height: 32px;\n",
              "      padding: 0 0 0 0;\n",
              "      width: 32px;\n",
              "    }\n",
              "\n",
              "    .colab-df-convert:hover {\n",
              "      background-color: #E2EBFA;\n",
              "      box-shadow: 0px 1px 2px rgba(60, 64, 67, 0.3), 0px 1px 3px 1px rgba(60, 64, 67, 0.15);\n",
              "      fill: #174EA6;\n",
              "    }\n",
              "\n",
              "    [theme=dark] .colab-df-convert {\n",
              "      background-color: #3B4455;\n",
              "      fill: #D2E3FC;\n",
              "    }\n",
              "\n",
              "    [theme=dark] .colab-df-convert:hover {\n",
              "      background-color: #434B5C;\n",
              "      box-shadow: 0px 1px 3px 1px rgba(0, 0, 0, 0.15);\n",
              "      filter: drop-shadow(0px 1px 2px rgba(0, 0, 0, 0.3));\n",
              "      fill: #FFFFFF;\n",
              "    }\n",
              "  </style>\n",
              "\n",
              "      <script>\n",
              "        const buttonEl =\n",
              "          document.querySelector('#df-3854235e-3ea2-47ee-bfd5-596b439d7ccc button.colab-df-convert');\n",
              "        buttonEl.style.display =\n",
              "          google.colab.kernel.accessAllowed ? 'block' : 'none';\n",
              "\n",
              "        async function convertToInteractive(key) {\n",
              "          const element = document.querySelector('#df-3854235e-3ea2-47ee-bfd5-596b439d7ccc');\n",
              "          const dataTable =\n",
              "            await google.colab.kernel.invokeFunction('convertToInteractive',\n",
              "                                                     [key], {});\n",
              "          if (!dataTable) return;\n",
              "\n",
              "          const docLinkHtml = 'Like what you see? Visit the ' +\n",
              "            '<a target=\"_blank\" href=https://colab.research.google.com/notebooks/data_table.ipynb>data table notebook</a>'\n",
              "            + ' to learn more about interactive tables.';\n",
              "          element.innerHTML = '';\n",
              "          dataTable['output_type'] = 'display_data';\n",
              "          await google.colab.output.renderOutput(dataTable, element);\n",
              "          const docLink = document.createElement('div');\n",
              "          docLink.innerHTML = docLinkHtml;\n",
              "          element.appendChild(docLink);\n",
              "        }\n",
              "      </script>\n",
              "    </div>\n",
              "  </div>\n",
              "  "
            ]
          },
          "metadata": {},
          "execution_count": 31
        }
      ]
    },
    {
      "cell_type": "code",
      "source": [
        "#Check missing values\n",
        "df.isna().sum()"
      ],
      "metadata": {
        "colab": {
          "base_uri": "https://localhost:8080/"
        },
        "id": "DcaG0cU8wrJW",
        "outputId": "4de20e01-44ee-4481-de51-06edc6e8ced3"
      },
      "execution_count": null,
      "outputs": [
        {
          "output_type": "execute_result",
          "data": {
            "text/plain": [
              "BDL_tmpf    267\n",
              "BDL_dwpf    267\n",
              "BDL_relh    267\n",
              "BDL_drct    267\n",
              "BDL_sknt    267\n",
              "BDL_p01i    267\n",
              "BDL_alti    267\n",
              "BDL_mslp    267\n",
              "BDL_vsby    267\n",
              "Demand        0\n",
              "dtype: int64"
            ]
          },
          "metadata": {},
          "execution_count": 32
        }
      ]
    },
    {
      "cell_type": "markdown",
      "source": [
        "As the number of missing values are very less as compared to the entire dataset so we can either delete them or impute the values using previous values. We will impute it using previous value as the dataset is already sorted"
      ],
      "metadata": {
        "id": "uazDiUhtxILP"
      }
    },
    {
      "cell_type": "code",
      "source": [
        "# Fill missing values with previous value in the dataset. \n",
        "df.fillna(method ='pad',inplace=True)"
      ],
      "metadata": {
        "id": "DKZiyDlVxXd-"
      },
      "execution_count": null,
      "outputs": []
    },
    {
      "cell_type": "code",
      "source": [
        "#Checking missing values \n",
        "df.isna().sum()"
      ],
      "metadata": {
        "colab": {
          "base_uri": "https://localhost:8080/"
        },
        "id": "gWgvvd--xgQU",
        "outputId": "f11a4a2d-2b7a-4a91-b129-7269210797a7"
      },
      "execution_count": null,
      "outputs": [
        {
          "output_type": "execute_result",
          "data": {
            "text/plain": [
              "BDL_tmpf    0\n",
              "BDL_dwpf    0\n",
              "BDL_relh    0\n",
              "BDL_drct    0\n",
              "BDL_sknt    0\n",
              "BDL_p01i    0\n",
              "BDL_alti    0\n",
              "BDL_mslp    0\n",
              "BDL_vsby    0\n",
              "Demand      0\n",
              "dtype: int64"
            ]
          },
          "metadata": {},
          "execution_count": 34
        }
      ]
    },
    {
      "cell_type": "markdown",
      "source": [
        "## Process as a 3D Tensor"
      ],
      "metadata": {
        "id": "taoKNIHrxo8J"
      }
    },
    {
      "cell_type": "code",
      "source": [
        "# prep data for modeling (multivariate)\n",
        "# link: https://machinelearningmastery.com/how-to-develop-lstm-models-for-time-series-forecasting/\n",
        "\n",
        "from numpy import array\n",
        "\n",
        "# split a multivariate sequence into samples\n",
        "def split_sequences(sequences, n_steps):\n",
        "\tX, y = list(), list()\n",
        "\tfor i in np.arange(len(sequences)): # be careful of this line!\n",
        "\t\t# find the end of this pattern\n",
        "\t\tend_ix = i + n_steps\n",
        "\t\t# check if we are beyond the dataset\n",
        "\t\tif end_ix > len(sequences):\n",
        "\t\t\tbreak\n",
        "\t\t# gather input and output parts of the pattern\n",
        "\t\tseq_x, seq_y = sequences[i:end_ix, :-1], sequences[end_ix-1, -1]\n",
        "\t\tX.append(seq_x)\n",
        "\t\ty.append(seq_y)\n",
        "\treturn np.array(X), np.array(y)"
      ],
      "metadata": {
        "id": "su1ECRaexsAK"
      },
      "execution_count": null,
      "outputs": []
    },
    {
      "cell_type": "code",
      "source": [
        "\n",
        "n_steps = 24 \n",
        "raw_seq = np.array(df) # Store the data in numpy array\n",
        "X, y = split_sequences(raw_seq, n_steps=24)"
      ],
      "metadata": {
        "id": "dlQx04PGyTIe"
      },
      "execution_count": null,
      "outputs": []
    },
    {
      "cell_type": "code",
      "source": [
        "# take a peak at what it did\n",
        "print(X.shape)\n",
        "print(y.shape)"
      ],
      "metadata": {
        "colab": {
          "base_uri": "https://localhost:8080/"
        },
        "id": "Ceu6xVWWyvw2",
        "outputId": "c8cc93fb-ccab-4a47-ea4b-f27ae6430903"
      },
      "execution_count": null,
      "outputs": [
        {
          "output_type": "stream",
          "name": "stdout",
          "text": [
            "(96404, 24, 9)\n",
            "(96404,)\n"
          ]
        }
      ]
    },
    {
      "cell_type": "code",
      "source": [
        "#Check once by printing values generated above\n",
        "print(\"Number of samples\",len(df)-n_steps+1)\n",
        "print(\"Lookback period\",n_steps)\n",
        "print(\"Number of features\",len(df.columns)-1)"
      ],
      "metadata": {
        "colab": {
          "base_uri": "https://localhost:8080/"
        },
        "id": "Xk6s41c-yzxj",
        "outputId": "ce23c19d-6f75-4d13-81ba-979a99aa7a12"
      },
      "execution_count": null,
      "outputs": [
        {
          "output_type": "stream",
          "name": "stdout",
          "text": [
            "Number of samples 96404\n",
            "Lookback period 24\n",
            "Number of features 9\n"
          ]
        }
      ]
    },
    {
      "cell_type": "markdown",
      "source": [
        "##Experiment 1 RNN Model\n",
        "Training - 50K rows \n",
        "Test - 46K rows\n",
        "\n",
        "Model architecture\n",
        "1.   Two Recurrent layers\n",
        "2.   One Convolution layer\n",
        "3.   Drop out\n",
        "4.   Max Pooling\n",
        "5.   Activation Function = Relu"
      ],
      "metadata": {
        "id": "i9S4LC-ozPua"
      }
    },
    {
      "cell_type": "markdown",
      "source": [
        "###Data Splitting "
      ],
      "metadata": {
        "id": "MZDbpzYC02m-"
      }
    },
    {
      "cell_type": "code",
      "source": [
        "# split the data into train and test partitions\n",
        "# we will use 50% of the data for train, and 50% for validation\n",
        "train_pct_index = 50000\n",
        "X_train, X_test = X[:train_pct_index], X[train_pct_index:]\n",
        "y_train, y_test = y[:train_pct_index], y[train_pct_index:]\n",
        "\n",
        "# pretty slick way of splitting your data using slicing!\n",
        "# notice how we didn't do any shuffling (we don't want temporal leakage! keeps time series intact)"
      ],
      "metadata": {
        "id": "oLT2o4pBz6J0"
      },
      "execution_count": null,
      "outputs": []
    },
    {
      "cell_type": "code",
      "source": [
        "# check the shape to be sure\n",
        "print(X.shape, X_train.shape, X_test.shape)\n",
        "print(y.shape, y_train.shape, y_test.shape)\n",
        "\n",
        "# verify that this all adds up!\n",
        "# 96404 samples with 24 lookback and 9 columns"
      ],
      "metadata": {
        "colab": {
          "base_uri": "https://localhost:8080/"
        },
        "id": "SHmd2Drn1PeP",
        "outputId": "4cce984b-40a1-4f5f-f5df-6d83ebe0e4bf"
      },
      "execution_count": null,
      "outputs": [
        {
          "output_type": "stream",
          "name": "stdout",
          "text": [
            "(96404, 24, 9) (50000, 24, 9) (46404, 24, 9)\n",
            "(96404,) (50000,) (46404,)\n"
          ]
        }
      ]
    },
    {
      "cell_type": "markdown",
      "source": [
        "###Model building"
      ],
      "metadata": {
        "id": "vrXA1H2j1Xho"
      }
    },
    {
      "cell_type": "code",
      "source": [
        "# define\n",
        "n_steps = X_train.shape[1]\n",
        "n_features = X_train.shape[2]\n",
        "\n",
        "print(n_steps, n_features)"
      ],
      "metadata": {
        "colab": {
          "base_uri": "https://localhost:8080/"
        },
        "id": "SmbG9fsu1U0q",
        "outputId": "c8b03f08-cdf8-4019-c793-dac37f09fb84"
      },
      "execution_count": null,
      "outputs": [
        {
          "output_type": "stream",
          "name": "stdout",
          "text": [
            "24 9\n"
          ]
        }
      ]
    },
    {
      "cell_type": "code",
      "source": [
        "# now let's build a model\n",
        "\n",
        "# define\n",
        "n_steps = X_train.shape[1]\n",
        "n_features = X_train.shape[2]\n",
        "kernel= 3\n",
        "\n",
        "# define model\n",
        "model = Sequential()\n",
        "model.add(Conv1D(filters=32, kernel_size=kernel, input_shape=(n_steps,n_features))) # notice how input shape goes in first layer\n",
        "model.add(MaxPooling1D(2))\n",
        "model.add(SimpleRNN(30, activation='relu', return_sequences=True,recurrent_dropout=0.2))\n",
        "model.add(SimpleRNN(60, activation='relu', \n",
        "                    recurrent_dropout=0.1))\n",
        "model.add(Dropout(0.2))\n",
        "model.add(Dense(1))\n",
        "\n",
        "model.compile(optimizer='adam', loss='mse',metrics=['mae'])\n",
        "model.summary()\n"
      ],
      "metadata": {
        "colab": {
          "base_uri": "https://localhost:8080/"
        },
        "id": "4-x6HA6C1rM-",
        "outputId": "aefdbfb0-b486-4a99-cdaf-d02a799eb37c"
      },
      "execution_count": null,
      "outputs": [
        {
          "output_type": "stream",
          "name": "stdout",
          "text": [
            "Model: \"sequential_3\"\n",
            "_________________________________________________________________\n",
            " Layer (type)                Output Shape              Param #   \n",
            "=================================================================\n",
            " conv1d_3 (Conv1D)           (None, 22, 32)            896       \n",
            "                                                                 \n",
            " max_pooling1d_3 (MaxPooling  (None, 11, 32)           0         \n",
            " 1D)                                                             \n",
            "                                                                 \n",
            " simple_rnn_6 (SimpleRNN)    (None, 11, 30)            1890      \n",
            "                                                                 \n",
            " simple_rnn_7 (SimpleRNN)    (None, 60)                5460      \n",
            "                                                                 \n",
            " dropout_3 (Dropout)         (None, 60)                0         \n",
            "                                                                 \n",
            " dense_3 (Dense)             (None, 1)                 61        \n",
            "                                                                 \n",
            "=================================================================\n",
            "Total params: 8,307\n",
            "Trainable params: 8,307\n",
            "Non-trainable params: 0\n",
            "_________________________________________________________________\n"
          ]
        }
      ]
    },
    {
      "cell_type": "code",
      "source": [
        "es = EarlyStopping(monitor='val_loss', mode='min', \n",
        "                   patience=5, \n",
        "                   verbose=1,\n",
        "                   restore_best_weights=True)\n",
        "\n",
        "# fit model (uses early stopping)\n",
        "model.fit(X_train, y_train, \n",
        "          epochs=500, \n",
        "          batch_size=5, \n",
        "          validation_split=0.2, # val is a random 20% of the data since we set shuffle = True\n",
        "          verbose=1,\n",
        "          callbacks=[es],\n",
        "          shuffle=True)"
      ],
      "metadata": {
        "colab": {
          "base_uri": "https://localhost:8080/"
        },
        "id": "oKHYeWyE3ryJ",
        "outputId": "01e4b0fe-836d-47c5-f94e-6bd6458f649c"
      },
      "execution_count": null,
      "outputs": [
        {
          "output_type": "stream",
          "name": "stdout",
          "text": [
            "Epoch 1/500\n",
            "8000/8000 [==============================] - 68s 8ms/step - loss: 737565.0625 - mae: 677.7874 - val_loss: 259848.1094 - val_mae: 421.9138\n",
            "Epoch 2/500\n",
            "8000/8000 [==============================] - 63s 8ms/step - loss: 414964.5938 - mae: 515.6276 - val_loss: 188062.7188 - val_mae: 357.0785\n",
            "Epoch 3/500\n",
            "8000/8000 [==============================] - 62s 8ms/step - loss: 379777.5000 - mae: 492.9257 - val_loss: 169626.5469 - val_mae: 330.4996\n",
            "Epoch 4/500\n",
            "8000/8000 [==============================] - 65s 8ms/step - loss: 358172.7812 - mae: 478.0593 - val_loss: 219201.2500 - val_mae: 377.3598\n",
            "Epoch 5/500\n",
            "8000/8000 [==============================] - 63s 8ms/step - loss: 344222.7812 - mae: 466.6245 - val_loss: 184523.5625 - val_mae: 346.1151\n",
            "Epoch 6/500\n",
            "8000/8000 [==============================] - 63s 8ms/step - loss: 338610.5000 - mae: 461.5015 - val_loss: 190002.6562 - val_mae: 348.5609\n",
            "Epoch 7/500\n",
            "8000/8000 [==============================] - 62s 8ms/step - loss: 332409.2188 - mae: 457.2067 - val_loss: 166166.0469 - val_mae: 327.8181\n",
            "Epoch 8/500\n",
            "8000/8000 [==============================] - 63s 8ms/step - loss: 328415.0312 - mae: 453.8446 - val_loss: 133419.3125 - val_mae: 279.7758\n",
            "Epoch 9/500\n",
            "8000/8000 [==============================] - 64s 8ms/step - loss: 324269.1250 - mae: 450.7627 - val_loss: 216233.6562 - val_mae: 368.4898\n",
            "Epoch 10/500\n",
            "8000/8000 [==============================] - 63s 8ms/step - loss: 323022.6250 - mae: 449.6223 - val_loss: 134695.0312 - val_mae: 292.3442\n",
            "Epoch 11/500\n",
            "8000/8000 [==============================] - 62s 8ms/step - loss: 317666.8438 - mae: 446.1328 - val_loss: 147145.8125 - val_mae: 302.9027\n",
            "Epoch 12/500\n",
            "8000/8000 [==============================] - 63s 8ms/step - loss: 316353.7812 - mae: 444.9107 - val_loss: 183182.6406 - val_mae: 331.9408\n",
            "Epoch 13/500\n",
            "7996/8000 [============================>.] - ETA: 0s - loss: 312547.1875 - mae: 441.1101Restoring model weights from the end of the best epoch: 8.\n",
            "8000/8000 [==============================] - 61s 8ms/step - loss: 312491.6562 - mae: 441.0674 - val_loss: 155236.4531 - val_mae: 313.4153\n",
            "Epoch 13: early stopping\n"
          ]
        },
        {
          "output_type": "execute_result",
          "data": {
            "text/plain": [
              "<keras.callbacks.History at 0x7fcc506e1810>"
            ]
          },
          "metadata": {},
          "execution_count": 78
        }
      ]
    },
    {
      "cell_type": "markdown",
      "source": [
        "### Model Evaluation"
      ],
      "metadata": {
        "id": "K7Kn870w358m"
      }
    },
    {
      "cell_type": "code",
      "source": [
        "\n",
        "# make a prediction\n",
        "pred = model.predict(X_test)# the pred\n",
        "print(pred) # round them!\n",
        "\n",
        "pred = np.round(pred,0)\n",
        "print(pred) # run all if you get an error...\n"
      ],
      "metadata": {
        "colab": {
          "base_uri": "https://localhost:8080/"
        },
        "id": "EKrBXVQX5guz",
        "outputId": "e205bce2-d5dd-4e37-cac3-8639f64a3a41"
      },
      "execution_count": null,
      "outputs": [
        {
          "output_type": "stream",
          "name": "stdout",
          "text": [
            "1451/1451 [==============================] - 5s 3ms/step\n",
            "[[3607.4746]\n",
            " [3699.2825]\n",
            " [3736.116 ]\n",
            " ...\n",
            " [3204.367 ]\n",
            " [3172.351 ]\n",
            " [3086.6921]]\n",
            "[[3607.]\n",
            " [3699.]\n",
            " [3736.]\n",
            " ...\n",
            " [3204.]\n",
            " [3172.]\n",
            " [3087.]]\n"
          ]
        }
      ]
    },
    {
      "cell_type": "code",
      "source": [
        "# calculate MSE\n",
        "from sklearn.metrics import mean_absolute_error\n",
        "print('MAE: ', mean_absolute_error(y_test, pred))"
      ],
      "metadata": {
        "colab": {
          "base_uri": "https://localhost:8080/"
        },
        "id": "IX3Dp_s86eAM",
        "outputId": "9b29a7b2-fffc-4c0e-a433-8a3c6c269964"
      },
      "execution_count": null,
      "outputs": [
        {
          "output_type": "stream",
          "name": "stdout",
          "text": [
            "MAE:  370.3811909533661\n"
          ]
        }
      ]
    },
    {
      "cell_type": "code",
      "source": [
        "actual = y_test # the actual\n",
        "plt.scatter(x=actual, y=pred)\n",
        "x = np.linspace(0,8000) # 45 degree line from 0 to 25 (axes are the same)\n",
        "plt.plot(x, x, color='red')\n",
        "plt.suptitle('Test Results')\n",
        "plt.xlabel('Actual')\n",
        "plt.ylabel('Predicted')\n",
        "plt.show()"
      ],
      "metadata": {
        "colab": {
          "base_uri": "https://localhost:8080/",
          "height": 308
        },
        "id": "1b6cKKbq6kvr",
        "outputId": "3cd75026-525c-474f-e63c-06ba439d034d"
      },
      "execution_count": null,
      "outputs": [
        {
          "output_type": "display_data",
          "data": {
            "text/plain": [
              "<Figure size 432x288 with 1 Axes>"
            ],
            "image/png": "[encoded data removed]"
          },
          "metadata": {
            "needs_background": "light"
          }
        }
      ]
    },
    {
      "cell_type": "code",
      "source": [
        "# show timeseries plot on the train and validation data\n",
        "plt.plot(np.arange(X_test.shape[0]), y_test, color='blue') # actual data\n",
        "plt.plot(np.arange(X_test.shape[0]), pred, color='red') # predicted data\n",
        "plt.suptitle('Test Results')\n",
        "plt.xlabel('Time')\n",
        "plt.ylabel('Occupied')\n",
        "plt.show()"
      ],
      "metadata": {
        "colab": {
          "base_uri": "https://localhost:8080/",
          "height": 308
        },
        "id": "UxFtuqvC6nbI",
        "outputId": "a474e6ef-d89e-49fb-bae3-6944fb2bc720"
      },
      "execution_count": null,
      "outputs": [
        {
          "output_type": "display_data",
          "data": {
            "text/plain": [
              "<Figure size 432x288 with 1 Axes>"
            ],
            "image/png": "[encoded data removed]"
          },
          "metadata": {
            "needs_background": "light"
          }
        }
      ]
    },
    {
      "cell_type": "markdown",
      "source": [
        "## Experiment 2 RNN Model\n",
        "Training - 80K rows \n",
        "Test - 16K rows\n",
        "\n",
        "Model architecture\n",
        "1.   Two Recurrent layers\n",
        "2.   One Convolution layer\n",
        "3.   Drop out\n",
        "4.   Max Pooling\n",
        "5.   Activation Function = Relu"
      ],
      "metadata": {
        "id": "YetF3KBm7Oe-"
      }
    },
    {
      "cell_type": "markdown",
      "source": [
        "###Data Splitting"
      ],
      "metadata": {
        "id": "XaQ9L4TJ7nML"
      }
    },
    {
      "cell_type": "code",
      "source": [
        "# split the data into train and test partitions\n",
        "# we will use 50% of the data for train, and 50% for validation\n",
        "train_pct_index = 80000\n",
        "X_train_new, X_test_new = X[:train_pct_index], X[train_pct_index:]\n",
        "y_train_new, y_test_new = y[:train_pct_index], y[train_pct_index:]\n",
        "\n",
        "# pretty slick way of splitting your data using slicing!\n",
        "# notice how we didn't do any shuffling (we don't want temporal leakage! keeps time series intact)"
      ],
      "metadata": {
        "id": "zp1tR15t7f5F"
      },
      "execution_count": null,
      "outputs": []
    },
    {
      "cell_type": "code",
      "source": [
        "# check the shape to be sure\n",
        "print(X.shape, X_train_new.shape, X_test_new.shape)\n",
        "print(y.shape, y_train_new.shape, y_test_new.shape)\n",
        "\n",
        "# verify that this all adds up!\n",
        "# 96404 samples with 24 lookback and 9 columns"
      ],
      "metadata": {
        "colab": {
          "base_uri": "https://localhost:8080/"
        },
        "id": "zcDufwjQ7qWx",
        "outputId": "06e8d2ea-2e89-42c3-f228-317a494d7d6e"
      },
      "execution_count": null,
      "outputs": [
        {
          "output_type": "stream",
          "name": "stdout",
          "text": [
            "(96404, 24, 9) (80000, 24, 9) (16404, 24, 9)\n",
            "(96404,) (80000,) (16404,)\n"
          ]
        }
      ]
    },
    {
      "cell_type": "markdown",
      "source": [
        "###Model Building"
      ],
      "metadata": {
        "id": "pJsv1gVZ71d3"
      }
    },
    {
      "cell_type": "code",
      "source": [
        "# define\n",
        "n_steps = X_train_new.shape[1]\n",
        "n_features = X_train_new.shape[2]\n",
        "\n",
        "print(n_steps, n_features)"
      ],
      "metadata": {
        "colab": {
          "base_uri": "https://localhost:8080/"
        },
        "id": "J5xaJ5lc747s",
        "outputId": "125266df-adbf-45a0-c800-afd1e704e653"
      },
      "execution_count": null,
      "outputs": [
        {
          "output_type": "stream",
          "name": "stdout",
          "text": [
            "24 9\n"
          ]
        }
      ]
    },
    {
      "cell_type": "code",
      "source": [
        "# now let's build a model\n",
        "\n",
        "# define\n",
        "n_steps = X_train_new.shape[1]\n",
        "n_features = X_train_new.shape[2]\n",
        "kernel= 3\n",
        "\n",
        "# define model\n",
        "model = Sequential()\n",
        "model.add(Conv1D(filters=32, kernel_size=kernel, input_shape=(n_steps,n_features))) # notice how input shape goes in first layer\n",
        "model.add(MaxPooling1D(2))\n",
        "model.add(SimpleRNN(30, activation='relu', return_sequences=True,recurrent_dropout=0.2))\n",
        "model.add(SimpleRNN(60, activation='relu', \n",
        "                    recurrent_dropout=0.1))\n",
        "model.add(Dropout(0.2))\n",
        "model.add(Dense(1))\n",
        "\n",
        "model.compile(optimizer='adam', loss='mse',metrics=['mae'])\n",
        "model.summary()"
      ],
      "metadata": {
        "colab": {
          "base_uri": "https://localhost:8080/"
        },
        "id": "KCxR5Mri8AQs",
        "outputId": "c9892a44-ed73-402c-da56-1762750a0b1f"
      },
      "execution_count": null,
      "outputs": [
        {
          "output_type": "stream",
          "name": "stdout",
          "text": [
            "Model: \"sequential_4\"\n",
            "_________________________________________________________________\n",
            " Layer (type)                Output Shape              Param #   \n",
            "=================================================================\n",
            " conv1d_4 (Conv1D)           (None, 22, 32)            896       \n",
            "                                                                 \n",
            " max_pooling1d_4 (MaxPooling  (None, 11, 32)           0         \n",
            " 1D)                                                             \n",
            "                                                                 \n",
            " simple_rnn_8 (SimpleRNN)    (None, 11, 30)            1890      \n",
            "                                                                 \n",
            " simple_rnn_9 (SimpleRNN)    (None, 60)                5460      \n",
            "                                                                 \n",
            " dropout_4 (Dropout)         (None, 60)                0         \n",
            "                                                                 \n",
            " dense_4 (Dense)             (None, 1)                 61        \n",
            "                                                                 \n",
            "=================================================================\n",
            "Total params: 8,307\n",
            "Trainable params: 8,307\n",
            "Non-trainable params: 0\n",
            "_________________________________________________________________\n"
          ]
        }
      ]
    },
    {
      "cell_type": "code",
      "source": [
        "es = EarlyStopping(monitor='val_loss', mode='min', \n",
        "                   patience=5, \n",
        "                   verbose=1,\n",
        "                   restore_best_weights=True)\n",
        "\n",
        "# fit model (uses early stopping)\n",
        "model.fit(X_train_new, y_train_new, \n",
        "          epochs=500, \n",
        "          batch_size=5, \n",
        "          validation_split=0.2, # val is a random 20% of the data since we set shuffle = True\n",
        "          verbose=1,\n",
        "          callbacks=[es],\n",
        "          shuffle=True)"
      ],
      "metadata": {
        "colab": {
          "base_uri": "https://localhost:8080/"
        },
        "id": "cwFsuZU68FQb",
        "outputId": "b2e11b4a-1076-42be-8017-2240f27079f2"
      },
      "execution_count": null,
      "outputs": [
        {
          "output_type": "stream",
          "name": "stdout",
          "text": [
            "Epoch 1/500\n",
            "12800/12800 [==============================] - 167s 8ms/step - loss: 521546.0625 - mae: 565.0238 - val_loss: 211133.9375 - val_mae: 371.6736\n",
            "Epoch 2/500\n",
            "12800/12800 [==============================] - 103s 8ms/step - loss: 340652.4062 - mae: 464.5946 - val_loss: 179495.6875 - val_mae: 339.2252\n",
            "Epoch 3/500\n",
            "12800/12800 [==============================] - 105s 8ms/step - loss: 317917.8750 - mae: 446.3225 - val_loss: 133150.9375 - val_mae: 292.5398\n",
            "Epoch 4/500\n",
            "12800/12800 [==============================] - 100s 8ms/step - loss: 300693.9688 - mae: 433.8156 - val_loss: 199177.0938 - val_mae: 356.5032\n",
            "Epoch 5/500\n",
            "12800/12800 [==============================] - 100s 8ms/step - loss: 294995.5625 - mae: 429.4002 - val_loss: 135459.2656 - val_mae: 287.4758\n",
            "Epoch 6/500\n",
            "12800/12800 [==============================] - 100s 8ms/step - loss: 290817.5625 - mae: 426.0919 - val_loss: 250843.8125 - val_mae: 408.9221\n",
            "Epoch 7/500\n",
            "12800/12800 [==============================] - 102s 8ms/step - loss: 288110.7188 - mae: 422.7839 - val_loss: 153896.9844 - val_mae: 311.7873\n",
            "Epoch 8/500\n",
            "12798/12800 [============================>.] - ETA: 0s - loss: 284559.4062 - mae: 420.4272Restoring model weights from the end of the best epoch: 3.\n",
            "12800/12800 [==============================] - 104s 8ms/step - loss: 284584.0000 - mae: 420.4504 - val_loss: 193738.1875 - val_mae: 349.6411\n",
            "Epoch 8: early stopping\n"
          ]
        },
        {
          "output_type": "execute_result",
          "data": {
            "text/plain": [
              "<keras.callbacks.History at 0x7fcc47844490>"
            ]
          },
          "metadata": {},
          "execution_count": 88
        }
      ]
    },
    {
      "cell_type": "markdown",
      "source": [
        "###Model Evaluation"
      ],
      "metadata": {
        "id": "95i8AO7c8Rvs"
      }
    },
    {
      "cell_type": "code",
      "source": [
        "\n",
        "# make a prediction\n",
        "pred = model.predict(X_test_new)# the pred\n",
        "print(pred) # round them!\n",
        "\n",
        "pred = np.round(pred,0)\n",
        "print(pred) # run all if you get an error..."
      ],
      "metadata": {
        "colab": {
          "base_uri": "https://localhost:8080/"
        },
        "id": "RXXw81gX8UcX",
        "outputId": "21061706-f89f-441a-fab2-59a58fcbc365"
      },
      "execution_count": null,
      "outputs": [
        {
          "output_type": "stream",
          "name": "stdout",
          "text": [
            "513/513 [==============================] - 3s 6ms/step\n",
            "[[3516.1023]\n",
            " [3488.4097]\n",
            " [3462.2632]\n",
            " ...\n",
            " [3069.9873]\n",
            " [3045.4763]\n",
            " [2988.8953]]\n",
            "[[3516.]\n",
            " [3488.]\n",
            " [3462.]\n",
            " ...\n",
            " [3070.]\n",
            " [3045.]\n",
            " [2989.]]\n"
          ]
        }
      ]
    },
    {
      "cell_type": "code",
      "source": [
        "# calculate MSE\n",
        "from sklearn.metrics import mean_absolute_error\n",
        "print('MAE: ', mean_absolute_error(y_test_new, pred))"
      ],
      "metadata": {
        "colab": {
          "base_uri": "https://localhost:8080/"
        },
        "id": "zrizIdSD8VTY",
        "outputId": "b7279047-5ae1-49b1-e0b7-646754ec1616"
      },
      "execution_count": null,
      "outputs": [
        {
          "output_type": "stream",
          "name": "stdout",
          "text": [
            "MAE:  338.5323803950256\n"
          ]
        }
      ]
    },
    {
      "cell_type": "code",
      "source": [
        "actual = y_test_new # the actual\n",
        "plt.scatter(x=actual, y=pred)\n",
        "x = np.linspace(0,8000) # 45 degree line from 0 to 25 (axes are the same)\n",
        "plt.plot(x, x, color='red')\n",
        "plt.suptitle('Test Results')\n",
        "plt.xlabel('Actual')\n",
        "plt.ylabel('Predicted')\n",
        "plt.show()"
      ],
      "metadata": {
        "colab": {
          "base_uri": "https://localhost:8080/",
          "height": 308
        },
        "id": "Rxr55nTY8h-t",
        "outputId": "daa578a5-2eb6-4ec2-cd2a-b289ff4c0fee"
      },
      "execution_count": null,
      "outputs": [
        {
          "output_type": "display_data",
          "data": {
            "text/plain": [
              "<Figure size 432x288 with 1 Axes>"
            ],
            "image/png": "[encoded data removed]"
          },
          "metadata": {
            "needs_background": "light"
          }
        }
      ]
    },
    {
      "cell_type": "code",
      "source": [
        "# show timeseries plot on the train and validation data\n",
        "plt.plot(np.arange(X_test_new.shape[0]), y_test_new, color='blue') # actual data\n",
        "plt.plot(np.arange(X_test_new.shape[0]), pred, color='red') # predicted data\n",
        "plt.suptitle('Test Results')\n",
        "plt.xlabel('Time')\n",
        "plt.ylabel('Occupied')\n",
        "plt.show()"
      ],
      "metadata": {
        "colab": {
          "base_uri": "https://localhost:8080/",
          "height": 308
        },
        "id": "2SR6m2MV8ilI",
        "outputId": "5fed62a9-beea-48bd-8874-d040c267da3d"
      },
      "execution_count": null,
      "outputs": [
        {
          "output_type": "display_data",
          "data": {
            "text/plain": [
              "<Figure size 432x288 with 1 Axes>"
            ],
            "image/png": "[encoded data removed]"
          },
          "metadata": {
            "needs_background": "light"
          }
        }
      ]
    },
    {
      "cell_type": "markdown",
      "source": [
        "##Baseline Model"
      ],
      "metadata": {
        "id": "YJAM73aVM-SS"
      }
    },
    {
      "cell_type": "code",
      "source": [
        "# baseline model - prediction is just the previous time step (a tough one to beat!)\n",
        "df['Baseline'] = df['Demand'].shift(24)\n",
        "df.tail(10)"
      ],
      "metadata": {
        "colab": {
          "base_uri": "https://localhost:8080/",
          "height": 363
        },
        "id": "5dQFn_qiM_4H",
        "outputId": "376e36a0-ef01-40e0-db57-619816a507a4"
      },
      "execution_count": null,
      "outputs": [
        {
          "output_type": "execute_result",
          "data": {
            "text/plain": [
              "       BDL_tmpf  BDL_dwpf  BDL_relh  BDL_drct  BDL_sknt  BDL_p01i  BDL_alti  \\\n",
              "78850      48.0      43.0     82.72     160.0       7.0       0.0     29.93   \n",
              "78851      48.0      43.0     82.72     180.0       7.0       0.0     29.92   \n",
              "78852      46.9      44.1     89.92     160.0       8.0       0.0     29.93   \n",
              "78853      46.9      45.0     93.40     180.0       8.0       0.0     29.93   \n",
              "78854      48.0      45.0     89.29     190.0       8.0       0.0     29.95   \n",
              "78855      48.0      45.0     89.29     190.0       7.0       0.0     29.95   \n",
              "78856      48.0      46.0     92.74     190.0       5.0       0.0     29.95   \n",
              "78857      48.0      46.0     92.74     170.0       7.0       0.0     29.94   \n",
              "78858      46.9      46.4    100.00     180.0       7.0       0.0     29.94   \n",
              "78859      48.0      46.0     92.74     160.0       5.0       0.0     29.94   \n",
              "\n",
              "       BDL_mslp  BDL_vsby   Demand  Baseline  \n",
              "78850    1013.1      10.0  3196.55   3331.93  \n",
              "78851    1013.2      10.0  3267.25   3371.52  \n",
              "78852    1013.4      10.0  3469.12   3537.42  \n",
              "78853    1013.5       8.0  3588.99   3700.24  \n",
              "78854    1014.1       7.0  3478.50   3632.95  \n",
              "78855    1014.2       6.0  3310.60   3508.60  \n",
              "78856    1013.8       5.0  3148.00   3369.02  \n",
              "78857    1013.5       5.0  2988.93   3176.76  \n",
              "78858    1013.8       5.0  2793.70   2936.60  \n",
              "78859    1013.3       4.0  2629.35   2692.52  "
            ],
            "text/html": [
              "\n",
              "  <div id=\"df-62816070-41a0-40ba-a059-02311621b57b\">\n",
              "    <div class=\"colab-df-container\">\n",
              "      <div>\n",
              "<style scoped>\n",
              "    .dataframe tbody tr th:only-of-type {\n",
              "        vertical-align: middle;\n",
              "    }\n",
              "\n",
              "    .dataframe tbody tr th {\n",
              "        vertical-align: top;\n",
              "    }\n",
              "\n",
              "    .dataframe thead th {\n",
              "        text-align: right;\n",
              "    }\n",
              "</style>\n",
              "<table border=\"1\" class=\"dataframe\">\n",
              "  <thead>\n",
              "    <tr style=\"text-align: right;\">\n",
              "      <th></th>\n",
              "      <th>BDL_tmpf</th>\n",
              "      <th>BDL_dwpf</th>\n",
              "      <th>BDL_relh</th>\n",
              "      <th>BDL_drct</th>\n",
              "      <th>BDL_sknt</th>\n",
              "      <th>BDL_p01i</th>\n",
              "      <th>BDL_alti</th>\n",
              "      <th>BDL_mslp</th>\n",
              "      <th>BDL_vsby</th>\n",
              "      <th>Demand</th>\n",
              "      <th>Baseline</th>\n",
              "    </tr>\n",
              "  </thead>\n",
              "  <tbody>\n",
              "    <tr>\n",
              "      <th>78850</th>\n",
              "      <td>48.0</td>\n",
              "      <td>43.0</td>\n",
              "      <td>82.72</td>\n",
              "      <td>160.0</td>\n",
              "      <td>7.0</td>\n",
              "      <td>0.0</td>\n",
              "      <td>29.93</td>\n",
              "      <td>1013.1</td>\n",
              "      <td>10.0</td>\n",
              "      <td>3196.55</td>\n",
              "      <td>3331.93</td>\n",
              "    </tr>\n",
              "    <tr>\n",
              "      <th>78851</th>\n",
              "      <td>48.0</td>\n",
              "      <td>43.0</td>\n",
              "      <td>82.72</td>\n",
              "      <td>180.0</td>\n",
              "      <td>7.0</td>\n",
              "      <td>0.0</td>\n",
              "      <td>29.92</td>\n",
              "      <td>1013.2</td>\n",
              "      <td>10.0</td>\n",
              "      <td>3267.25</td>\n",
              "      <td>3371.52</td>\n",
              "    </tr>\n",
              "    <tr>\n",
              "      <th>78852</th>\n",
              "      <td>46.9</td>\n",
              "      <td>44.1</td>\n",
              "      <td>89.92</td>\n",
              "      <td>160.0</td>\n",
              "      <td>8.0</td>\n",
              "      <td>0.0</td>\n",
              "      <td>29.93</td>\n",
              "      <td>1013.4</td>\n",
              "      <td>10.0</td>\n",
              "      <td>3469.12</td>\n",
              "      <td>3537.42</td>\n",
              "    </tr>\n",
              "    <tr>\n",
              "      <th>78853</th>\n",
              "      <td>46.9</td>\n",
              "      <td>45.0</td>\n",
              "      <td>93.40</td>\n",
              "      <td>180.0</td>\n",
              "      <td>8.0</td>\n",
              "      <td>0.0</td>\n",
              "      <td>29.93</td>\n",
              "      <td>1013.5</td>\n",
              "      <td>8.0</td>\n",
              "      <td>3588.99</td>\n",
              "      <td>3700.24</td>\n",
              "    </tr>\n",
              "    <tr>\n",
              "      <th>78854</th>\n",
              "      <td>48.0</td>\n",
              "      <td>45.0</td>\n",
              "      <td>89.29</td>\n",
              "      <td>190.0</td>\n",
              "      <td>8.0</td>\n",
              "      <td>0.0</td>\n",
              "      <td>29.95</td>\n",
              "      <td>1014.1</td>\n",
              "      <td>7.0</td>\n",
              "      <td>3478.50</td>\n",
              "      <td>3632.95</td>\n",
              "    </tr>\n",
              "    <tr>\n",
              "      <th>78855</th>\n",
              "      <td>48.0</td>\n",
              "      <td>45.0</td>\n",
              "      <td>89.29</td>\n",
              "      <td>190.0</td>\n",
              "      <td>7.0</td>\n",
              "      <td>0.0</td>\n",
              "      <td>29.95</td>\n",
              "      <td>1014.2</td>\n",
              "      <td>6.0</td>\n",
              "      <td>3310.60</td>\n",
              "      <td>3508.60</td>\n",
              "    </tr>\n",
              "    <tr>\n",
              "      <th>78856</th>\n",
              "      <td>48.0</td>\n",
              "      <td>46.0</td>\n",
              "      <td>92.74</td>\n",
              "      <td>190.0</td>\n",
              "      <td>5.0</td>\n",
              "      <td>0.0</td>\n",
              "      <td>29.95</td>\n",
              "      <td>1013.8</td>\n",
              "      <td>5.0</td>\n",
              "      <td>3148.00</td>\n",
              "      <td>3369.02</td>\n",
              "    </tr>\n",
              "    <tr>\n",
              "      <th>78857</th>\n",
              "      <td>48.0</td>\n",
              "      <td>46.0</td>\n",
              "      <td>92.74</td>\n",
              "      <td>170.0</td>\n",
              "      <td>7.0</td>\n",
              "      <td>0.0</td>\n",
              "      <td>29.94</td>\n",
              "      <td>1013.5</td>\n",
              "      <td>5.0</td>\n",
              "      <td>2988.93</td>\n",
              "      <td>3176.76</td>\n",
              "    </tr>\n",
              "    <tr>\n",
              "      <th>78858</th>\n",
              "      <td>46.9</td>\n",
              "      <td>46.4</td>\n",
              "      <td>100.00</td>\n",
              "      <td>180.0</td>\n",
              "      <td>7.0</td>\n",
              "      <td>0.0</td>\n",
              "      <td>29.94</td>\n",
              "      <td>1013.8</td>\n",
              "      <td>5.0</td>\n",
              "      <td>2793.70</td>\n",
              "      <td>2936.60</td>\n",
              "    </tr>\n",
              "    <tr>\n",
              "      <th>78859</th>\n",
              "      <td>48.0</td>\n",
              "      <td>46.0</td>\n",
              "      <td>92.74</td>\n",
              "      <td>160.0</td>\n",
              "      <td>5.0</td>\n",
              "      <td>0.0</td>\n",
              "      <td>29.94</td>\n",
              "      <td>1013.3</td>\n",
              "      <td>4.0</td>\n",
              "      <td>2629.35</td>\n",
              "      <td>2692.52</td>\n",
              "    </tr>\n",
              "  </tbody>\n",
              "</table>\n",
              "</div>\n",
              "      <button class=\"colab-df-convert\" onclick=\"convertToInteractive('df-62816070-41a0-40ba-a059-02311621b57b')\"\n",
              "              title=\"Convert this dataframe to an interactive table.\"\n",
              "              style=\"display:none;\">\n",
              "        \n",
              "  <svg xmlns=\"http://www.w3.org/2000/svg\" height=\"24px\"viewBox=\"0 0 24 24\"\n",
              "       width=\"24px\">\n",
              "    <path d=\"M0 0h24v24H0V0z\" fill=\"none\"/>\n",
              "    <path d=\"M18.56 5.44l.94 2.06.94-2.06 2.06-.94-2.06-.94-.94-2.06-.94 2.06-2.06.94zm-11 1L8.5 8.5l.94-2.06 2.06-.94-2.06-.94L8.5 2.5l-.94 2.06-2.06.94zm10 10l.94 2.06.94-2.06 2.06-.94-2.06-.94-.94-2.06-.94 2.06-2.06.94z\"/><path d=\"M17.41 7.96l-1.37-1.37c-.4-.4-.92-.59-1.43-.59-.52 0-1.04.2-1.43.59L10.3 9.45l-7.72 7.72c-.78.78-.78 2.05 0 2.83L4 21.41c.39.39.9.59 1.41.59.51 0 1.02-.2 1.41-.59l7.78-7.78 2.81-2.81c.8-.78.8-2.07 0-2.86zM5.41 20L4 18.59l7.72-7.72 1.47 1.35L5.41 20z\"/>\n",
              "  </svg>\n",
              "      </button>\n",
              "      \n",
              "  <style>\n",
              "    .colab-df-container {\n",
              "      display:flex;\n",
              "      flex-wrap:wrap;\n",
              "      gap: 12px;\n",
              "    }\n",
              "\n",
              "    .colab-df-convert {\n",
              "      background-color: #E8F0FE;\n",
              "      border: none;\n",
              "      border-radius: 50%;\n",
              "      cursor: pointer;\n",
              "      display: none;\n",
              "      fill: #1967D2;\n",
              "      height: 32px;\n",
              "      padding: 0 0 0 0;\n",
              "      width: 32px;\n",
              "    }\n",
              "\n",
              "    .colab-df-convert:hover {\n",
              "      background-color: #E2EBFA;\n",
              "      box-shadow: 0px 1px 2px rgba(60, 64, 67, 0.3), 0px 1px 3px 1px rgba(60, 64, 67, 0.15);\n",
              "      fill: #174EA6;\n",
              "    }\n",
              "\n",
              "    [theme=dark] .colab-df-convert {\n",
              "      background-color: #3B4455;\n",
              "      fill: #D2E3FC;\n",
              "    }\n",
              "\n",
              "    [theme=dark] .colab-df-convert:hover {\n",
              "      background-color: #434B5C;\n",
              "      box-shadow: 0px 1px 3px 1px rgba(0, 0, 0, 0.15);\n",
              "      filter: drop-shadow(0px 1px 2px rgba(0, 0, 0, 0.3));\n",
              "      fill: #FFFFFF;\n",
              "    }\n",
              "  </style>\n",
              "\n",
              "      <script>\n",
              "        const buttonEl =\n",
              "          document.querySelector('#df-62816070-41a0-40ba-a059-02311621b57b button.colab-df-convert');\n",
              "        buttonEl.style.display =\n",
              "          google.colab.kernel.accessAllowed ? 'block' : 'none';\n",
              "\n",
              "        async function convertToInteractive(key) {\n",
              "          const element = document.querySelector('#df-62816070-41a0-40ba-a059-02311621b57b');\n",
              "          const dataTable =\n",
              "            await google.colab.kernel.invokeFunction('convertToInteractive',\n",
              "                                                     [key], {});\n",
              "          if (!dataTable) return;\n",
              "\n",
              "          const docLinkHtml = 'Like what you see? Visit the ' +\n",
              "            '<a target=\"_blank\" href=https://colab.research.google.com/notebooks/data_table.ipynb>data table notebook</a>'\n",
              "            + ' to learn more about interactive tables.';\n",
              "          element.innerHTML = '';\n",
              "          dataTable['output_type'] = 'display_data';\n",
              "          await google.colab.output.renderOutput(dataTable, element);\n",
              "          const docLink = document.createElement('div');\n",
              "          docLink.innerHTML = docLinkHtml;\n",
              "          element.appendChild(docLink);\n",
              "        }\n",
              "      </script>\n",
              "    </div>\n",
              "  </div>\n",
              "  "
            ]
          },
          "metadata": {},
          "execution_count": 114
        }
      ]
    },
    {
      "cell_type": "code",
      "source": [
        "y_test_baseline = df['Baseline']\n",
        "# just extract rows corresponding to y_test\n",
        "y_test_baseline = y_test_baseline.tail(y_test.shape[0])\n",
        "# verify shape\n",
        "print(y_test.shape)\n",
        "print(y_test_baseline.shape) # good!"
      ],
      "metadata": {
        "colab": {
          "base_uri": "https://localhost:8080/"
        },
        "id": "zXvYuhLdNtoD",
        "outputId": "3ba6169d-ebbb-4522-b420-2d5e41e39e89"
      },
      "execution_count": null,
      "outputs": [
        {
          "output_type": "stream",
          "name": "stdout",
          "text": [
            "(46404,)\n",
            "(46404,)\n"
          ]
        }
      ]
    },
    {
      "cell_type": "code",
      "source": [
        "pred = y_test_baseline # the pred\n",
        "actual = y_test # the actual\n",
        "\n",
        "# calculate MSE for the baseline model\n",
        "from sklearn.metrics import mean_absolute_error\n",
        "print('MAE: ', mean_absolute_error(y_test, pred))\n",
        "\n",
        "\n",
        "plt.scatter(x=actual, y=pred)\n",
        "x = np.linspace(0,8000) # 45 degree line from 0 to 25 (axes are the same)\n",
        "plt.plot(x, x, color='red')\n",
        "plt.suptitle('Test Results')\n",
        "plt.xlabel('Actual')\n",
        "plt.ylabel('Predicted')\n",
        "plt.show()\n",
        "# looks pretty good!"
      ],
      "metadata": {
        "colab": {
          "base_uri": "https://localhost:8080/",
          "height": 325
        },
        "id": "2AOlpr_aNxig",
        "outputId": "2e412cd0-1444-4695-be2e-92a265603920"
      },
      "execution_count": null,
      "outputs": [
        {
          "output_type": "stream",
          "name": "stdout",
          "text": [
            "MAE:  239.2162805146108\n"
          ]
        },
        {
          "output_type": "display_data",
          "data": {
            "text/plain": [
              "<Figure size 432x288 with 1 Axes>"
            ],
            "image/png": "[encoded data removed]"
          },
          "metadata": {
            "needs_background": "light"
          }
        }
      ]
    },
    {
      "cell_type": "code",
      "source": [
        "# show timeseries plot on the train and validation data\n",
        "plt.plot(np.arange(X_test.shape[0]), y_test, color='blue') # actual data\n",
        "plt.plot(np.arange(X_test.shape[0]), pred, color='red') # predicted data\n",
        "plt.show()\n",
        "# looks good, BUT it's not a smart model! all the data is just shifted."
      ],
      "metadata": {
        "colab": {
          "base_uri": "https://localhost:8080/",
          "height": 265
        },
        "id": "c9QS229bO24P",
        "outputId": "e2429cb8-3699-42a8-f643-282067ca0226"
      },
      "execution_count": null,
      "outputs": [
        {
          "output_type": "display_data",
          "data": {
            "text/plain": [
              "<Figure size 432x288 with 1 Axes>"
            ],
            "image/png": "[encoded data removed]"
          },
          "metadata": {
            "needs_background": "light"
          }
        }
      ]
    },
    {
      "cell_type": "code",
      "source": [
        "# calculate MSE for the baseline model\n",
        "from sklearn.metrics import mean_absolute_error\n",
        "mean_absolute_error(y_test, pred)"
      ],
      "metadata": {
        "colab": {
          "base_uri": "https://localhost:8080/"
        },
        "id": "gg9EJcLZO-SN",
        "outputId": "1c0a0d18-7c6e-47bb-ae47-a8f07aee5034"
      },
      "execution_count": null,
      "outputs": [
        {
          "output_type": "execute_result",
          "data": {
            "text/plain": [
              "239.2162805146108"
            ]
          },
          "metadata": {},
          "execution_count": 119
        }
      ]
    },
    {
      "cell_type": "markdown",
      "source": [
        "##Conclusion\n",
        "**What did you learn from this assignment? Did your walk-forward validation work as you expected it to?**\n",
        "\n",
        "**What else would you do differently next time?**\n",
        "\n",
        "\n",
        "\n",
        "1.   I learned in-depth implementation of RNN with Convolutional and Maxpooling layers. For this particular assignment, SimpleRNN with 2 layers and 1 convolutional and 1 maxpool layer worked best for me. \n",
        "\n",
        "2.   I started with a lookback period of 12 hours but eventually, after several trials, the lookback period of 24 hours gave better results. I also tweaked other hyperparameters, such as filters, kernel size, etc. After a number of different values, the ones mentioned in the assignment gave the best results.\n",
        "\n",
        "3.   As expected, walk-forward validation gave better results. As I increased the number of training data points from 50K to 80K while keeping my model architecture intact, my Mean absolute error value dropped from 370 to 338, which indicates that the error decreased as we increased the data points. \n",
        "\n",
        "4.   I also observed that the model takes more time to run as I increase the lookback period. For instance, when my lookback period was 12, my model took approximately 9 minutes to run, but when I increased it to 24, it took almost 19 minutes. \n",
        "\n",
        "5.   Using multiple LSTM instead of Simple RNN along with 1 convolution and 1 maxpool layer resulted in an MAE value of almost 650, and the model also took 26 minutes to run. \n",
        "\n",
        "6. Compared to the baseline model, which has an MAE value of 239, my model 1 value was 370, and my model 2 value was 338, which was a decent enough result from my perspective.\n",
        "\n",
        "7.   The model converged at the epoch value of 12 and 8, respectively, for models 1 and 2 with the help of early stopping. \n",
        "\n",
        "8.   In response to the question what I would do differently next time- \"Rather than having it all in one file and running it, I would create multiple files for different models the next time. Parallelizing files will increase time efficiency. I would also like to improve my hyper parameter tuning ability. \n",
        "\n",
        "\n",
        "\n",
        "\n",
        "\n",
        "\n",
        "\n",
        "\n",
        "\n",
        "\n",
        "\n",
        "\n",
        "\n",
        "\n",
        "\n"
      ],
      "metadata": {
        "id": "7Edbuw44RTr0"
      }
    }
  ]
}